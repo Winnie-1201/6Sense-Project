{
 "cells": [
  {
   "cell_type": "code",
   "execution_count": 316,
   "metadata": {},
   "outputs": [],
   "source": [
    "import pandas as pd\n",
    "import matplotlib.pyplot as plt\n",
    "import pandas as pd\n",
    "import numpy as np\n",
    "import matplotlib.pyplot as plt\n",
    "from collections import Counter\n",
    "import random\n",
    "from sklearn.linear_model import LogisticRegression\n",
    "from sklearn.svm import SVC, LinearSVC\n",
    "from sklearn.ensemble import RandomForestClassifier\n",
    "from sklearn.model_selection import train_test_split\n",
    "from sklearn.ensemble import RandomForestRegressor\n",
    "from sklearn.neighbors import KNeighborsClassifier\n",
    "from sklearn.naive_bayes import GaussianNB\n",
    "from sklearn.linear_model import Perceptron\n",
    "from sklearn.linear_model import SGDClassifier\n",
    "from sklearn.tree import DecisionTreeClassifier\n",
    "\n",
    "from datetime import datetime\n",
    "import pandas as pd\n",
    "import numpy as np\n",
    "import matplotlib.pyplot as plt\n",
    "from collections import Counter\n",
    "import texttable"
   ]
  },
  {
   "cell_type": "markdown",
   "metadata": {},
   "source": [
    "### 1) Some basic information about the files"
   ]
  },
  {
   "cell_type": "code",
   "execution_count": 423,
   "metadata": {},
   "outputs": [],
   "source": [
    "events = pd.read_csv(\"Customer1/events.csv\")\n",
    "calls = pd.read_csv(\"Customer1/calls.csv\")\n",
    "company = pd.read_csv(\"Customer1/companies.csv\")\n",
    "people = pd.read_csv(\"Customer1/people.csv\")\n",
    "opport = pd.read_csv(\"Customer1/opportunities.csv\")\n",
    "events = events.rename(columns={\"date\": \"event_date\"})\n",
    "\n"
   ]
  },
  {
   "cell_type": "code",
   "execution_count": 424,
   "metadata": {},
   "outputs": [
    {
     "name": "stdout",
     "output_type": "stream",
     "text": [
      "the size of each file: \n",
      "events: 111525\n",
      "calls: 367005\n",
      "company: 31110\n",
      "people: 64429\n",
      "opportunity: 3213\n"
     ]
    }
   ],
   "source": [
    "print('the size of each file: ')\n",
    "print('events:', len(events))\n",
    "print('calls:', len(calls))\n",
    "print('company:', len(company))\n",
    "print('people:', len(people))\n",
    "print('opportunity:', len(opport))"
   ]
  },
  {
   "cell_type": "code",
   "execution_count": 425,
   "metadata": {},
   "outputs": [
    {
     "name": "stdout",
     "output_type": "stream",
     "text": [
      "the columns of each file: \n",
      "events:  Index(['event_date', 'activity_action', 'activity_type', 'contact_id'], dtype='object')\n",
      "calls:  Index(['date', 'timestamp', 'call_disposition', 'contact_id'], dtype='object')\n",
      "company:  Index(['company_id', 'industry', 'employee_range'], dtype='object')\n",
      "people:  Index(['job_level', 'job_function', 'company_id', 'contact_id'], dtype='object')\n",
      "opportunity:  Index(['company_id', 'created_date'], dtype='object')\n"
     ]
    }
   ],
   "source": [
    "print('the columns of each file: ')\n",
    "print('events: ', events.columns)\n",
    "print('calls: ', calls.columns)\n",
    "print('company: ', company.columns)\n",
    "print('people: ', people.columns)\n",
    "print('opportunity: ', opport.columns)"
   ]
  },
  {
   "cell_type": "code",
   "execution_count": 426,
   "metadata": {},
   "outputs": [
    {
     "data": {
      "text/plain": [
       "view                  36547\n",
       "open                  29646\n",
       "fill_out              19870\n",
       "click                 13464\n",
       "filled_out_form       11789\n",
       "attended_in_person      209\n",
       "Name: activity_action, dtype: int64"
      ]
     },
     "execution_count": 426,
     "metadata": {},
     "output_type": "execute_result"
    }
   ],
   "source": [
    "events['activity_action'].value_counts()"
   ]
  },
  {
   "cell_type": "code",
   "execution_count": 441,
   "metadata": {},
   "outputs": [
    {
     "data": {
      "text/plain": [
       "known_web_visit    36547\n",
       "form_fill          31659\n",
       "email_open         29646\n",
       "email_click        13464\n",
       "attended_event       209\n",
       "Name: activity_type, dtype: int64"
      ]
     },
     "execution_count": 441,
     "metadata": {},
     "output_type": "execute_result"
    }
   ],
   "source": [
    "events['activity_type'].value_counts()\n"
   ]
  },
  {
   "cell_type": "markdown",
   "metadata": {},
   "source": [
    "* it can be seen that fill_out and filled_out_form are the same events, so I will use activity_type to merge the table in order to avoid duplicates while merging tables"
   ]
  },
  {
   "cell_type": "markdown",
   "metadata": {},
   "source": [
    "### 2) Merge a new table "
   ]
  },
  {
   "cell_type": "markdown",
   "metadata": {},
   "source": [
    "#### a) Create new tables for events and calls in order to delete the duplicates"
   ]
  },
  {
   "cell_type": "code",
   "execution_count": 446,
   "metadata": {},
   "outputs": [
    {
     "name": "stdout",
     "output_type": "stream",
     "text": [
      "the size of new tables: \n",
      "new_events:  99780\n",
      "new_calls:  266201\n"
     ]
    }
   ],
   "source": [
    "new_events = events.groupby(['contact_id', 'event_date', 'activity_type'], as_index = False).count().rename(columns = {'activity_action':'activity_count'})   \n",
    "new_calls = calls.groupby(['contact_id', 'date', 'call_disposition'], as_index = False).count().rename(columns = {'timestamp':'call_count'})\n",
    "\n",
    "print('the size of new tables: ')\n",
    "print('new_events: ', len(new_events))\n",
    "print('new_calls: ', len(new_calls))\n"
   ]
  },
  {
   "cell_type": "code",
   "execution_count": 447,
   "metadata": {},
   "outputs": [
    {
     "data": {
      "text/html": [
       "<div>\n",
       "<style scoped>\n",
       "    .dataframe tbody tr th:only-of-type {\n",
       "        vertical-align: middle;\n",
       "    }\n",
       "\n",
       "    .dataframe tbody tr th {\n",
       "        vertical-align: top;\n",
       "    }\n",
       "\n",
       "    .dataframe thead th {\n",
       "        text-align: right;\n",
       "    }\n",
       "</style>\n",
       "<table border=\"1\" class=\"dataframe\">\n",
       "  <thead>\n",
       "    <tr style=\"text-align: right;\">\n",
       "      <th></th>\n",
       "      <th>contact_id</th>\n",
       "      <th>event_date</th>\n",
       "      <th>activity_type</th>\n",
       "      <th>activity_count</th>\n",
       "    </tr>\n",
       "  </thead>\n",
       "  <tbody>\n",
       "    <tr>\n",
       "      <th>0</th>\n",
       "      <td>40008cab9a95789c6</td>\n",
       "      <td>2019-08-20</td>\n",
       "      <td>form_fill</td>\n",
       "      <td>1</td>\n",
       "    </tr>\n",
       "    <tr>\n",
       "      <th>1</th>\n",
       "      <td>40008cab9a95789c6</td>\n",
       "      <td>2019-08-20</td>\n",
       "      <td>known_web_visit</td>\n",
       "      <td>1</td>\n",
       "    </tr>\n",
       "    <tr>\n",
       "      <th>2</th>\n",
       "      <td>400097495c858cc5b</td>\n",
       "      <td>2019-10-10</td>\n",
       "      <td>form_fill</td>\n",
       "      <td>2</td>\n",
       "    </tr>\n",
       "    <tr>\n",
       "      <th>3</th>\n",
       "      <td>4000bb6585ca64a04</td>\n",
       "      <td>2019-08-01</td>\n",
       "      <td>form_fill</td>\n",
       "      <td>1</td>\n",
       "    </tr>\n",
       "    <tr>\n",
       "      <th>4</th>\n",
       "      <td>4000bb6585ca64a04</td>\n",
       "      <td>2019-08-01</td>\n",
       "      <td>known_web_visit</td>\n",
       "      <td>1</td>\n",
       "    </tr>\n",
       "  </tbody>\n",
       "</table>\n",
       "</div>"
      ],
      "text/plain": [
       "          contact_id  event_date    activity_type  activity_count\n",
       "0  40008cab9a95789c6  2019-08-20        form_fill               1\n",
       "1  40008cab9a95789c6  2019-08-20  known_web_visit               1\n",
       "2  400097495c858cc5b  2019-10-10        form_fill               2\n",
       "3  4000bb6585ca64a04  2019-08-01        form_fill               1\n",
       "4  4000bb6585ca64a04  2019-08-01  known_web_visit               1"
      ]
     },
     "execution_count": 447,
     "metadata": {},
     "output_type": "execute_result"
    }
   ],
   "source": [
    "new_events.head()"
   ]
  },
  {
   "cell_type": "code",
   "execution_count": 448,
   "metadata": {},
   "outputs": [
    {
     "data": {
      "text/html": [
       "<div>\n",
       "<style scoped>\n",
       "    .dataframe tbody tr th:only-of-type {\n",
       "        vertical-align: middle;\n",
       "    }\n",
       "\n",
       "    .dataframe tbody tr th {\n",
       "        vertical-align: top;\n",
       "    }\n",
       "\n",
       "    .dataframe thead th {\n",
       "        text-align: right;\n",
       "    }\n",
       "</style>\n",
       "<table border=\"1\" class=\"dataframe\">\n",
       "  <thead>\n",
       "    <tr style=\"text-align: right;\">\n",
       "      <th></th>\n",
       "      <th>contact_id</th>\n",
       "      <th>date</th>\n",
       "      <th>call_disposition</th>\n",
       "      <th>call_count</th>\n",
       "    </tr>\n",
       "  </thead>\n",
       "  <tbody>\n",
       "    <tr>\n",
       "      <th>0</th>\n",
       "      <td>4000047a5b09764c</td>\n",
       "      <td>2019-09-19</td>\n",
       "      <td>No Answer</td>\n",
       "      <td>2</td>\n",
       "    </tr>\n",
       "    <tr>\n",
       "      <th>1</th>\n",
       "      <td>400008b800968b87b</td>\n",
       "      <td>2019-09-16</td>\n",
       "      <td>No Answer</td>\n",
       "      <td>1</td>\n",
       "    </tr>\n",
       "    <tr>\n",
       "      <th>2</th>\n",
       "      <td>400008b800968b87b</td>\n",
       "      <td>2019-09-20</td>\n",
       "      <td>No Answer</td>\n",
       "      <td>1</td>\n",
       "    </tr>\n",
       "    <tr>\n",
       "      <th>3</th>\n",
       "      <td>400008b800968b87b</td>\n",
       "      <td>2019-09-24</td>\n",
       "      <td>No Answer</td>\n",
       "      <td>1</td>\n",
       "    </tr>\n",
       "    <tr>\n",
       "      <th>4</th>\n",
       "      <td>400008b800968b87b</td>\n",
       "      <td>2019-10-02</td>\n",
       "      <td>No Answer</td>\n",
       "      <td>1</td>\n",
       "    </tr>\n",
       "  </tbody>\n",
       "</table>\n",
       "</div>"
      ],
      "text/plain": [
       "          contact_id        date call_disposition  call_count\n",
       "0   4000047a5b09764c  2019-09-19        No Answer           2\n",
       "1  400008b800968b87b  2019-09-16        No Answer           1\n",
       "2  400008b800968b87b  2019-09-20        No Answer           1\n",
       "3  400008b800968b87b  2019-09-24        No Answer           1\n",
       "4  400008b800968b87b  2019-10-02        No Answer           1"
      ]
     },
     "execution_count": 448,
     "metadata": {},
     "output_type": "execute_result"
    }
   ],
   "source": [
    "new_calls.head()"
   ]
  },
  {
   "cell_type": "markdown",
   "metadata": {},
   "source": [
    "#### b) Merging a new table"
   ]
  },
  {
   "cell_type": "code",
   "execution_count": 449,
   "metadata": {},
   "outputs": [
    {
     "data": {
      "text/html": [
       "<div>\n",
       "<style scoped>\n",
       "    .dataframe tbody tr th:only-of-type {\n",
       "        vertical-align: middle;\n",
       "    }\n",
       "\n",
       "    .dataframe tbody tr th {\n",
       "        vertical-align: top;\n",
       "    }\n",
       "\n",
       "    .dataframe thead th {\n",
       "        text-align: right;\n",
       "    }\n",
       "</style>\n",
       "<table border=\"1\" class=\"dataframe\">\n",
       "  <thead>\n",
       "    <tr style=\"text-align: right;\">\n",
       "      <th></th>\n",
       "      <th>contact_id</th>\n",
       "      <th>date</th>\n",
       "      <th>call_disposition</th>\n",
       "      <th>call_count</th>\n",
       "      <th>event_date</th>\n",
       "      <th>activity_type</th>\n",
       "      <th>activity_count</th>\n",
       "      <th>job_level</th>\n",
       "      <th>job_function</th>\n",
       "      <th>company_id</th>\n",
       "      <th>industry</th>\n",
       "      <th>employee_range</th>\n",
       "    </tr>\n",
       "  </thead>\n",
       "  <tbody>\n",
       "    <tr>\n",
       "      <th>0</th>\n",
       "      <td>40008cab9a95789c6</td>\n",
       "      <td>2019-08-20</td>\n",
       "      <td>MC - No Need</td>\n",
       "      <td>1</td>\n",
       "      <td>2019-08-20</td>\n",
       "      <td>form_fill</td>\n",
       "      <td>1</td>\n",
       "      <td>Other</td>\n",
       "      <td>Other</td>\n",
       "      <td>.812e6c37a26b2d2</td>\n",
       "      <td>Healthcare and Medical</td>\n",
       "      <td>0 - 9</td>\n",
       "    </tr>\n",
       "    <tr>\n",
       "      <th>1</th>\n",
       "      <td>40008cab9a95789c6</td>\n",
       "      <td>2019-08-20</td>\n",
       "      <td>MC - No Need</td>\n",
       "      <td>1</td>\n",
       "      <td>2019-08-20</td>\n",
       "      <td>known_web_visit</td>\n",
       "      <td>1</td>\n",
       "      <td>Other</td>\n",
       "      <td>Other</td>\n",
       "      <td>.812e6c37a26b2d2</td>\n",
       "      <td>Healthcare and Medical</td>\n",
       "      <td>0 - 9</td>\n",
       "    </tr>\n",
       "    <tr>\n",
       "      <th>2</th>\n",
       "      <td>400097495c858cc5b</td>\n",
       "      <td>2019-10-10</td>\n",
       "      <td>No Answer</td>\n",
       "      <td>1</td>\n",
       "      <td>2019-10-10</td>\n",
       "      <td>form_fill</td>\n",
       "      <td>2</td>\n",
       "      <td>C-Level</td>\n",
       "      <td>Management</td>\n",
       "      <td>e215e54457e5469</td>\n",
       "      <td>Manufacturing</td>\n",
       "      <td>0 - 9</td>\n",
       "    </tr>\n",
       "    <tr>\n",
       "      <th>3</th>\n",
       "      <td>4000bb6585ca64a04</td>\n",
       "      <td>2019-08-01</td>\n",
       "      <td>No Answer</td>\n",
       "      <td>1</td>\n",
       "      <td>2019-08-01</td>\n",
       "      <td>form_fill</td>\n",
       "      <td>1</td>\n",
       "      <td>Manager</td>\n",
       "      <td>Information Technology</td>\n",
       "      <td>afca90b262cd9d0</td>\n",
       "      <td>Software and Technology</td>\n",
       "      <td>50 - 99</td>\n",
       "    </tr>\n",
       "    <tr>\n",
       "      <th>4</th>\n",
       "      <td>4000bb6585ca64a04</td>\n",
       "      <td>2019-08-01</td>\n",
       "      <td>No Answer</td>\n",
       "      <td>1</td>\n",
       "      <td>2019-08-01</td>\n",
       "      <td>known_web_visit</td>\n",
       "      <td>1</td>\n",
       "      <td>Manager</td>\n",
       "      <td>Information Technology</td>\n",
       "      <td>afca90b262cd9d0</td>\n",
       "      <td>Software and Technology</td>\n",
       "      <td>50 - 99</td>\n",
       "    </tr>\n",
       "  </tbody>\n",
       "</table>\n",
       "</div>"
      ],
      "text/plain": [
       "          contact_id        date call_disposition  call_count  event_date  \\\n",
       "0  40008cab9a95789c6  2019-08-20     MC - No Need           1  2019-08-20   \n",
       "1  40008cab9a95789c6  2019-08-20     MC - No Need           1  2019-08-20   \n",
       "2  400097495c858cc5b  2019-10-10        No Answer           1  2019-10-10   \n",
       "3  4000bb6585ca64a04  2019-08-01        No Answer           1  2019-08-01   \n",
       "4  4000bb6585ca64a04  2019-08-01        No Answer           1  2019-08-01   \n",
       "\n",
       "     activity_type  activity_count job_level            job_function  \\\n",
       "0        form_fill               1     Other                   Other   \n",
       "1  known_web_visit               1     Other                   Other   \n",
       "2        form_fill               2   C-Level              Management   \n",
       "3        form_fill               1   Manager  Information Technology   \n",
       "4  known_web_visit               1   Manager  Information Technology   \n",
       "\n",
       "         company_id                 industry employee_range  \n",
       "0  .812e6c37a26b2d2   Healthcare and Medical          0 - 9  \n",
       "1  .812e6c37a26b2d2   Healthcare and Medical          0 - 9  \n",
       "2   e215e54457e5469            Manufacturing          0 - 9  \n",
       "3   afca90b262cd9d0  Software and Technology        50 - 99  \n",
       "4   afca90b262cd9d0  Software and Technology        50 - 99  "
      ]
     },
     "execution_count": 449,
     "metadata": {},
     "output_type": "execute_result"
    }
   ],
   "source": [
    "a = new_calls.merge(new_events, on = 'contact_id', how = 'inner')\n",
    "b = a.merge(people, on = 'contact_id', how = 'inner')\n",
    "merge = b.merge(company, on = 'company_id', how = 'inner')\n",
    "# merge = c.merge(opport, on = 'company_id', how = 'inner')\n",
    "# opp = np.zeros(len(d))\n",
    "# for i in range(len(d)):\n",
    "#     if merge.iloc[i, 11] in [np.nan]:\n",
    "#         opp[i] = 0\n",
    "#     else:\n",
    "#         opp[i] = 1\n",
    "# merge['oppor'] = opp\n",
    "# merge = merge.drop('created_date', axis = 1)\n",
    "# del merge['company_id']\n",
    "# del merge['contact_id']\n",
    "\n",
    "# del merge['activity_action']\n",
    "\n",
    "merge.head()"
   ]
  },
  {
   "cell_type": "code",
   "execution_count": 432,
   "metadata": {},
   "outputs": [],
   "source": [
    "opp = np.zeros(len(merge))\n",
    "for i in range(len(merge)):\n",
    "    if merge['company_id'][i] in opport['company_id'].values:\n",
    "        opp[i] = 1  \n"
   ]
  },
  {
   "cell_type": "code",
   "execution_count": 433,
   "metadata": {},
   "outputs": [],
   "source": [
    "merge['opportunity'] = opp\n",
    "del merge['company_id']\n"
   ]
  },
  {
   "cell_type": "code",
   "execution_count": 434,
   "metadata": {},
   "outputs": [
    {
     "data": {
      "text/html": [
       "<div>\n",
       "<style scoped>\n",
       "    .dataframe tbody tr th:only-of-type {\n",
       "        vertical-align: middle;\n",
       "    }\n",
       "\n",
       "    .dataframe tbody tr th {\n",
       "        vertical-align: top;\n",
       "    }\n",
       "\n",
       "    .dataframe thead th {\n",
       "        text-align: right;\n",
       "    }\n",
       "</style>\n",
       "<table border=\"1\" class=\"dataframe\">\n",
       "  <thead>\n",
       "    <tr style=\"text-align: right;\">\n",
       "      <th></th>\n",
       "      <th>contact_id</th>\n",
       "      <th>date</th>\n",
       "      <th>call_disposition</th>\n",
       "      <th>call_count</th>\n",
       "      <th>event_date</th>\n",
       "      <th>activity_count</th>\n",
       "      <th>activity_action</th>\n",
       "      <th>job_level</th>\n",
       "      <th>job_function</th>\n",
       "      <th>industry</th>\n",
       "      <th>employee_range</th>\n",
       "      <th>opportunity</th>\n",
       "    </tr>\n",
       "  </thead>\n",
       "  <tbody>\n",
       "    <tr>\n",
       "      <th>0</th>\n",
       "      <td>40008cab9a95789c6</td>\n",
       "      <td>2019-08-20</td>\n",
       "      <td>MC - No Need</td>\n",
       "      <td>1</td>\n",
       "      <td>2019-08-20</td>\n",
       "      <td>form_fill</td>\n",
       "      <td>1</td>\n",
       "      <td>Other</td>\n",
       "      <td>Other</td>\n",
       "      <td>Healthcare and Medical</td>\n",
       "      <td>0 - 9</td>\n",
       "      <td>0.0</td>\n",
       "    </tr>\n",
       "    <tr>\n",
       "      <th>1</th>\n",
       "      <td>40008cab9a95789c6</td>\n",
       "      <td>2019-08-20</td>\n",
       "      <td>MC - No Need</td>\n",
       "      <td>1</td>\n",
       "      <td>2019-08-20</td>\n",
       "      <td>known_web_visit</td>\n",
       "      <td>1</td>\n",
       "      <td>Other</td>\n",
       "      <td>Other</td>\n",
       "      <td>Healthcare and Medical</td>\n",
       "      <td>0 - 9</td>\n",
       "      <td>0.0</td>\n",
       "    </tr>\n",
       "    <tr>\n",
       "      <th>2</th>\n",
       "      <td>400097495c858cc5b</td>\n",
       "      <td>2019-10-10</td>\n",
       "      <td>No Answer</td>\n",
       "      <td>1</td>\n",
       "      <td>2019-10-10</td>\n",
       "      <td>form_fill</td>\n",
       "      <td>2</td>\n",
       "      <td>C-Level</td>\n",
       "      <td>Management</td>\n",
       "      <td>Manufacturing</td>\n",
       "      <td>0 - 9</td>\n",
       "      <td>0.0</td>\n",
       "    </tr>\n",
       "    <tr>\n",
       "      <th>3</th>\n",
       "      <td>4000bb6585ca64a04</td>\n",
       "      <td>2019-08-01</td>\n",
       "      <td>No Answer</td>\n",
       "      <td>1</td>\n",
       "      <td>2019-08-01</td>\n",
       "      <td>form_fill</td>\n",
       "      <td>1</td>\n",
       "      <td>Manager</td>\n",
       "      <td>Information Technology</td>\n",
       "      <td>Software and Technology</td>\n",
       "      <td>50 - 99</td>\n",
       "      <td>0.0</td>\n",
       "    </tr>\n",
       "    <tr>\n",
       "      <th>4</th>\n",
       "      <td>4000bb6585ca64a04</td>\n",
       "      <td>2019-08-01</td>\n",
       "      <td>No Answer</td>\n",
       "      <td>1</td>\n",
       "      <td>2019-08-01</td>\n",
       "      <td>known_web_visit</td>\n",
       "      <td>1</td>\n",
       "      <td>Manager</td>\n",
       "      <td>Information Technology</td>\n",
       "      <td>Software and Technology</td>\n",
       "      <td>50 - 99</td>\n",
       "      <td>0.0</td>\n",
       "    </tr>\n",
       "  </tbody>\n",
       "</table>\n",
       "</div>"
      ],
      "text/plain": [
       "          contact_id        date call_disposition  call_count  event_date  \\\n",
       "0  40008cab9a95789c6  2019-08-20     MC - No Need           1  2019-08-20   \n",
       "1  40008cab9a95789c6  2019-08-20     MC - No Need           1  2019-08-20   \n",
       "2  400097495c858cc5b  2019-10-10        No Answer           1  2019-10-10   \n",
       "3  4000bb6585ca64a04  2019-08-01        No Answer           1  2019-08-01   \n",
       "4  4000bb6585ca64a04  2019-08-01        No Answer           1  2019-08-01   \n",
       "\n",
       "    activity_count  activity_action job_level            job_function  \\\n",
       "0        form_fill                1     Other                   Other   \n",
       "1  known_web_visit                1     Other                   Other   \n",
       "2        form_fill                2   C-Level              Management   \n",
       "3        form_fill                1   Manager  Information Technology   \n",
       "4  known_web_visit                1   Manager  Information Technology   \n",
       "\n",
       "                  industry employee_range  opportunity  \n",
       "0   Healthcare and Medical          0 - 9          0.0  \n",
       "1   Healthcare and Medical          0 - 9          0.0  \n",
       "2            Manufacturing          0 - 9          0.0  \n",
       "3  Software and Technology        50 - 99          0.0  \n",
       "4  Software and Technology        50 - 99          0.0  "
      ]
     },
     "execution_count": 434,
     "metadata": {},
     "output_type": "execute_result"
    }
   ],
   "source": [
    "merge.head()\n"
   ]
  },
  {
   "cell_type": "code",
   "execution_count": 435,
   "metadata": {},
   "outputs": [
    {
     "name": "stdout",
     "output_type": "stream",
     "text": [
      "the size of the new table: 535307\n"
     ]
    }
   ],
   "source": [
    "print('the size of the new table:', len(merge))"
   ]
  },
  {
   "cell_type": "markdown",
   "metadata": {},
   "source": [
    "### 4) Delete all of the None values"
   ]
  },
  {
   "cell_type": "code",
   "execution_count": 436,
   "metadata": {},
   "outputs": [
    {
     "name": "stdout",
     "output_type": "stream",
     "text": [
      "size of the table after deleting the None values: 516763\n"
     ]
    }
   ],
   "source": [
    "merge = merge.dropna()\n",
    "merge = merge.reset_index(drop=True)\n",
    "\n",
    "print('size of the table after deleting the None values:', len(merge))"
   ]
  },
  {
   "cell_type": "markdown",
   "metadata": {},
   "source": [
    "## 3) Feature Engineering"
   ]
  },
  {
   "cell_type": "markdown",
   "metadata": {},
   "source": [
    "### a) Adding new features "
   ]
  },
  {
   "cell_type": "markdown",
   "metadata": {},
   "source": [
    "#### i) Feature one: the day difference between call date and event day"
   ]
  },
  {
   "cell_type": "code",
   "execution_count": 450,
   "metadata": {},
   "outputs": [],
   "source": [
    "merge['event_date'] =  pd.to_datetime(merge['event_date'])\n",
    "merge['event_day'] = pd.Series([merge['event_date'][i].strftime('%a') for i in range(len(merge))])\n",
    "merge['date'] =  pd.to_datetime(merge['date'])\n",
    "merge['diff'] = (merge['date'] - merge['event_date']).dt.days \n",
    "\n"
   ]
  },
  {
   "cell_type": "code",
   "execution_count": 451,
   "metadata": {},
   "outputs": [
    {
     "data": {
      "text/html": [
       "<div>\n",
       "<style scoped>\n",
       "    .dataframe tbody tr th:only-of-type {\n",
       "        vertical-align: middle;\n",
       "    }\n",
       "\n",
       "    .dataframe tbody tr th {\n",
       "        vertical-align: top;\n",
       "    }\n",
       "\n",
       "    .dataframe thead th {\n",
       "        text-align: right;\n",
       "    }\n",
       "</style>\n",
       "<table border=\"1\" class=\"dataframe\">\n",
       "  <thead>\n",
       "    <tr style=\"text-align: right;\">\n",
       "      <th></th>\n",
       "      <th>contact_id</th>\n",
       "      <th>date</th>\n",
       "      <th>call_disposition</th>\n",
       "      <th>call_count</th>\n",
       "      <th>event_date</th>\n",
       "      <th>activity_type</th>\n",
       "      <th>activity_count</th>\n",
       "      <th>job_level</th>\n",
       "      <th>job_function</th>\n",
       "      <th>company_id</th>\n",
       "      <th>industry</th>\n",
       "      <th>employee_range</th>\n",
       "      <th>event_day</th>\n",
       "      <th>diff</th>\n",
       "    </tr>\n",
       "  </thead>\n",
       "  <tbody>\n",
       "    <tr>\n",
       "      <th>0</th>\n",
       "      <td>40008cab9a95789c6</td>\n",
       "      <td>2019-08-20</td>\n",
       "      <td>MC - No Need</td>\n",
       "      <td>1</td>\n",
       "      <td>2019-08-20</td>\n",
       "      <td>form_fill</td>\n",
       "      <td>1</td>\n",
       "      <td>Other</td>\n",
       "      <td>Other</td>\n",
       "      <td>.812e6c37a26b2d2</td>\n",
       "      <td>Healthcare and Medical</td>\n",
       "      <td>0 - 9</td>\n",
       "      <td>Tue</td>\n",
       "      <td>0</td>\n",
       "    </tr>\n",
       "    <tr>\n",
       "      <th>1</th>\n",
       "      <td>40008cab9a95789c6</td>\n",
       "      <td>2019-08-20</td>\n",
       "      <td>MC - No Need</td>\n",
       "      <td>1</td>\n",
       "      <td>2019-08-20</td>\n",
       "      <td>known_web_visit</td>\n",
       "      <td>1</td>\n",
       "      <td>Other</td>\n",
       "      <td>Other</td>\n",
       "      <td>.812e6c37a26b2d2</td>\n",
       "      <td>Healthcare and Medical</td>\n",
       "      <td>0 - 9</td>\n",
       "      <td>Tue</td>\n",
       "      <td>0</td>\n",
       "    </tr>\n",
       "    <tr>\n",
       "      <th>2</th>\n",
       "      <td>400097495c858cc5b</td>\n",
       "      <td>2019-10-10</td>\n",
       "      <td>No Answer</td>\n",
       "      <td>1</td>\n",
       "      <td>2019-10-10</td>\n",
       "      <td>form_fill</td>\n",
       "      <td>2</td>\n",
       "      <td>C-Level</td>\n",
       "      <td>Management</td>\n",
       "      <td>e215e54457e5469</td>\n",
       "      <td>Manufacturing</td>\n",
       "      <td>0 - 9</td>\n",
       "      <td>Thu</td>\n",
       "      <td>0</td>\n",
       "    </tr>\n",
       "    <tr>\n",
       "      <th>3</th>\n",
       "      <td>4000bb6585ca64a04</td>\n",
       "      <td>2019-08-01</td>\n",
       "      <td>No Answer</td>\n",
       "      <td>1</td>\n",
       "      <td>2019-08-01</td>\n",
       "      <td>form_fill</td>\n",
       "      <td>1</td>\n",
       "      <td>Manager</td>\n",
       "      <td>Information Technology</td>\n",
       "      <td>afca90b262cd9d0</td>\n",
       "      <td>Software and Technology</td>\n",
       "      <td>50 - 99</td>\n",
       "      <td>Thu</td>\n",
       "      <td>0</td>\n",
       "    </tr>\n",
       "    <tr>\n",
       "      <th>4</th>\n",
       "      <td>4000bb6585ca64a04</td>\n",
       "      <td>2019-08-01</td>\n",
       "      <td>No Answer</td>\n",
       "      <td>1</td>\n",
       "      <td>2019-08-01</td>\n",
       "      <td>known_web_visit</td>\n",
       "      <td>1</td>\n",
       "      <td>Manager</td>\n",
       "      <td>Information Technology</td>\n",
       "      <td>afca90b262cd9d0</td>\n",
       "      <td>Software and Technology</td>\n",
       "      <td>50 - 99</td>\n",
       "      <td>Thu</td>\n",
       "      <td>0</td>\n",
       "    </tr>\n",
       "  </tbody>\n",
       "</table>\n",
       "</div>"
      ],
      "text/plain": [
       "          contact_id       date call_disposition  call_count event_date  \\\n",
       "0  40008cab9a95789c6 2019-08-20     MC - No Need           1 2019-08-20   \n",
       "1  40008cab9a95789c6 2019-08-20     MC - No Need           1 2019-08-20   \n",
       "2  400097495c858cc5b 2019-10-10        No Answer           1 2019-10-10   \n",
       "3  4000bb6585ca64a04 2019-08-01        No Answer           1 2019-08-01   \n",
       "4  4000bb6585ca64a04 2019-08-01        No Answer           1 2019-08-01   \n",
       "\n",
       "     activity_type  activity_count job_level            job_function  \\\n",
       "0        form_fill               1     Other                   Other   \n",
       "1  known_web_visit               1     Other                   Other   \n",
       "2        form_fill               2   C-Level              Management   \n",
       "3        form_fill               1   Manager  Information Technology   \n",
       "4  known_web_visit               1   Manager  Information Technology   \n",
       "\n",
       "         company_id                 industry employee_range event_day  diff  \n",
       "0  .812e6c37a26b2d2   Healthcare and Medical          0 - 9       Tue     0  \n",
       "1  .812e6c37a26b2d2   Healthcare and Medical          0 - 9       Tue     0  \n",
       "2   e215e54457e5469            Manufacturing          0 - 9       Thu     0  \n",
       "3   afca90b262cd9d0  Software and Technology        50 - 99       Thu     0  \n",
       "4   afca90b262cd9d0  Software and Technology        50 - 99       Thu     0  "
      ]
     },
     "execution_count": 451,
     "metadata": {},
     "output_type": "execute_result"
    }
   ],
   "source": [
    "merge.head()"
   ]
  },
  {
   "cell_type": "code",
   "execution_count": 439,
   "metadata": {},
   "outputs": [
    {
     "data": {
      "text/plain": [
       "Text(0.5, 1.0, 'Day Different Between Events Day and Call Day')"
      ]
     },
     "execution_count": 439,
     "metadata": {},
     "output_type": "execute_result"
    },
    {
     "data": {
      "image/png": "[encoded data removed]",
      "text/plain": [
       "<Figure size 576x432 with 1 Axes>"
      ]
     },
     "metadata": {
      "needs_background": "light"
     },
     "output_type": "display_data"
    }
   ],
   "source": [
    "df = merge[merge['call_disposition'].str.contains('MC')]\n",
    "plt.figure(figsize=(8,6))\n",
    "plt.hist(x = df['diff'], bins = 50)\n",
    "plt.xlabel('Days')\n",
    "plt.ylabel('Counts')\n",
    "plt.title('Day Different Between Events Day and Call Day')"
   ]
  },
  {
   "cell_type": "markdown",
   "metadata": {},
   "source": [
    "> * the plot of the day difference using the calls with meaningful conversation\n",
    "> * it can be seen that most of the meaningful conversation was made within few days after the customers' activities related to 6Sense"
   ]
  },
  {
   "cell_type": "markdown",
   "metadata": {},
   "source": [
    "#### ii) Feature two: the total count of activity action for each contact_id"
   ]
  },
  {
   "cell_type": "code",
   "execution_count": 467,
   "metadata": {},
   "outputs": [
    {
     "data": {
      "text/html": [
       "<div>\n",
       "<style scoped>\n",
       "    .dataframe tbody tr th:only-of-type {\n",
       "        vertical-align: middle;\n",
       "    }\n",
       "\n",
       "    .dataframe tbody tr th {\n",
       "        vertical-align: top;\n",
       "    }\n",
       "\n",
       "    .dataframe thead th {\n",
       "        text-align: right;\n",
       "    }\n",
       "</style>\n",
       "<table border=\"1\" class=\"dataframe\">\n",
       "  <thead>\n",
       "    <tr style=\"text-align: right;\">\n",
       "      <th></th>\n",
       "      <th>contact_id</th>\n",
       "      <th>date</th>\n",
       "      <th>call_disposition</th>\n",
       "      <th>call_count</th>\n",
       "      <th>event_date</th>\n",
       "      <th>activity_type</th>\n",
       "      <th>activity_count</th>\n",
       "      <th>job_level</th>\n",
       "      <th>job_function</th>\n",
       "      <th>company_id</th>\n",
       "      <th>industry</th>\n",
       "      <th>employee_range</th>\n",
       "      <th>event_day</th>\n",
       "      <th>diff</th>\n",
       "      <th>total count</th>\n",
       "    </tr>\n",
       "  </thead>\n",
       "  <tbody>\n",
       "    <tr>\n",
       "      <th>0</th>\n",
       "      <td>40008cab9a95789c6</td>\n",
       "      <td>2019-08-20</td>\n",
       "      <td>MC - No Need</td>\n",
       "      <td>1</td>\n",
       "      <td>2019-08-20</td>\n",
       "      <td>form_fill</td>\n",
       "      <td>1</td>\n",
       "      <td>Other</td>\n",
       "      <td>Other</td>\n",
       "      <td>.812e6c37a26b2d2</td>\n",
       "      <td>Healthcare and Medical</td>\n",
       "      <td>0 - 9</td>\n",
       "      <td>Tue</td>\n",
       "      <td>0</td>\n",
       "      <td>2</td>\n",
       "    </tr>\n",
       "    <tr>\n",
       "      <th>1</th>\n",
       "      <td>40008cab9a95789c6</td>\n",
       "      <td>2019-08-20</td>\n",
       "      <td>MC - No Need</td>\n",
       "      <td>1</td>\n",
       "      <td>2019-08-20</td>\n",
       "      <td>known_web_visit</td>\n",
       "      <td>1</td>\n",
       "      <td>Other</td>\n",
       "      <td>Other</td>\n",
       "      <td>.812e6c37a26b2d2</td>\n",
       "      <td>Healthcare and Medical</td>\n",
       "      <td>0 - 9</td>\n",
       "      <td>Tue</td>\n",
       "      <td>0</td>\n",
       "      <td>2</td>\n",
       "    </tr>\n",
       "    <tr>\n",
       "      <th>2</th>\n",
       "      <td>400097495c858cc5b</td>\n",
       "      <td>2019-10-10</td>\n",
       "      <td>No Answer</td>\n",
       "      <td>1</td>\n",
       "      <td>2019-10-10</td>\n",
       "      <td>form_fill</td>\n",
       "      <td>2</td>\n",
       "      <td>C-Level</td>\n",
       "      <td>Management</td>\n",
       "      <td>e215e54457e5469</td>\n",
       "      <td>Manufacturing</td>\n",
       "      <td>0 - 9</td>\n",
       "      <td>Thu</td>\n",
       "      <td>0</td>\n",
       "      <td>1</td>\n",
       "    </tr>\n",
       "    <tr>\n",
       "      <th>3</th>\n",
       "      <td>4000bb6585ca64a04</td>\n",
       "      <td>2019-08-01</td>\n",
       "      <td>No Answer</td>\n",
       "      <td>1</td>\n",
       "      <td>2019-08-01</td>\n",
       "      <td>form_fill</td>\n",
       "      <td>1</td>\n",
       "      <td>Manager</td>\n",
       "      <td>Information Technology</td>\n",
       "      <td>afca90b262cd9d0</td>\n",
       "      <td>Software and Technology</td>\n",
       "      <td>50 - 99</td>\n",
       "      <td>Thu</td>\n",
       "      <td>0</td>\n",
       "      <td>28</td>\n",
       "    </tr>\n",
       "    <tr>\n",
       "      <th>4</th>\n",
       "      <td>4000bb6585ca64a04</td>\n",
       "      <td>2019-08-01</td>\n",
       "      <td>No Answer</td>\n",
       "      <td>1</td>\n",
       "      <td>2019-08-01</td>\n",
       "      <td>known_web_visit</td>\n",
       "      <td>1</td>\n",
       "      <td>Manager</td>\n",
       "      <td>Information Technology</td>\n",
       "      <td>afca90b262cd9d0</td>\n",
       "      <td>Software and Technology</td>\n",
       "      <td>50 - 99</td>\n",
       "      <td>Thu</td>\n",
       "      <td>0</td>\n",
       "      <td>28</td>\n",
       "    </tr>\n",
       "  </tbody>\n",
       "</table>\n",
       "</div>"
      ],
      "text/plain": [
       "          contact_id       date call_disposition  call_count event_date  \\\n",
       "0  40008cab9a95789c6 2019-08-20     MC - No Need           1 2019-08-20   \n",
       "1  40008cab9a95789c6 2019-08-20     MC - No Need           1 2019-08-20   \n",
       "2  400097495c858cc5b 2019-10-10        No Answer           1 2019-10-10   \n",
       "3  4000bb6585ca64a04 2019-08-01        No Answer           1 2019-08-01   \n",
       "4  4000bb6585ca64a04 2019-08-01        No Answer           1 2019-08-01   \n",
       "\n",
       "     activity_type  activity_count job_level            job_function  \\\n",
       "0        form_fill               1     Other                   Other   \n",
       "1  known_web_visit               1     Other                   Other   \n",
       "2        form_fill               2   C-Level              Management   \n",
       "3        form_fill               1   Manager  Information Technology   \n",
       "4  known_web_visit               1   Manager  Information Technology   \n",
       "\n",
       "         company_id                 industry employee_range event_day  diff  \\\n",
       "0  .812e6c37a26b2d2   Healthcare and Medical          0 - 9       Tue     0   \n",
       "1  .812e6c37a26b2d2   Healthcare and Medical          0 - 9       Tue     0   \n",
       "2   e215e54457e5469            Manufacturing          0 - 9       Thu     0   \n",
       "3   afca90b262cd9d0  Software and Technology        50 - 99       Thu     0   \n",
       "4   afca90b262cd9d0  Software and Technology        50 - 99       Thu     0   \n",
       "\n",
       "   total count  \n",
       "0            2  \n",
       "1            2  \n",
       "2            1  \n",
       "3           28  \n",
       "4           28  "
      ]
     },
     "execution_count": 467,
     "metadata": {},
     "output_type": "execute_result"
    }
   ],
   "source": [
    "total_count = merge.groupby('contact_id', as_index = False).size().rename(columns={'size':'total count'})\n",
    "\n",
    "merge = merge.merge(total_count, on = 'contact_id')\n",
    "merge.head()    \n"
   ]
  },
  {
   "cell_type": "code",
   "execution_count": null,
   "metadata": {},
   "outputs": [],
   "source": [
    "# target = d['call_day']\n",
    "# features = d.drop(['call_day','call_month'],axis=1)\n",
    "\n",
    "# x_train,x_test,y_train,y_test=train_test_split(features,target,test_size=0.2,random_state=42)\n",
    "\n",
    "# model = RandomForestRegressor()\n",
    "# model.fit(x_train, y_train)\n",
    "# prediction = model.predict(x_test)\n",
    "# training_accuracy = model.score(x_train, y_train)\n",
    "# print ('Training Accuracy:',training_accuracy)\n",
    "# test_accuracy = model.score(x_test, y_test)\n",
    "# print ('Testing Accuracy:',test_accuracy)"
   ]
  },
  {
   "cell_type": "code",
   "execution_count": null,
   "metadata": {},
   "outputs": [],
   "source": [
    "# target = d['call_day']\n",
    "# features = d.drop(['call_day','call_month', 'oppor'],axis=1)\n",
    "\n",
    "# x_train,x_test,y_train,y_test=train_test_split(features,target,test_size=0.2,random_state=42)\n",
    "\n",
    "# model = RandomForestRegressor()\n",
    "# model.fit(x_train, y_train)\n",
    "\n",
    "# prediction = model.predict(x_test)\n",
    "# training_accuracy = model.score(x_train, y_train)\n",
    "# print ('Training Accuracy:',training_accuracy)\n",
    "# test_accuracy = model.score(x_test, y_test)\n",
    "# print ('Testing Accuracy:',test_accuracy)"
   ]
  },
  {
   "cell_type": "code",
   "execution_count": null,
   "metadata": {},
   "outputs": [],
   "source": [
    "# target = d['call_day']\n",
    "# features = d.drop(['call_day'],axis=1)\n",
    "\n",
    "# x_train,x_test,y_train,y_test=train_test_split(features,target,test_size=0.2,random_state=42)\n",
    "\n",
    "# model = RandomForestRegressor()\n",
    "# model.fit(x_train, y_train)\n",
    "# prediction = model.predict(x_test)\n",
    "# training_accuracy = model.score(x_train, y_train)\n",
    "# print ('Training Accuracy:',training_accuracy)\n",
    "# test_accuracy = model.score(x_test, y_test)\n",
    "# print ('Testing Accuracy:',test_accuracy)"
   ]
  },
  {
   "cell_type": "code",
   "execution_count": null,
   "metadata": {},
   "outputs": [],
   "source": [
    "# knn = KNeighborsClassifier(n_neighbors = 3)                 \n",
    "# knn.fit(x_train, y_train)                                     \n",
    "\n",
    "# training_accuracy = knn.score(x_train, y_train)\n",
    "# print ('Training Accuracy:',training_accuracy)\n",
    "# test_accuracy = knn.score(x_test, y_test)\n",
    "# print ('Testing Accuracy:',test_accuracy)\n"
   ]
  },
  {
   "cell_type": "code",
   "execution_count": null,
   "metadata": {},
   "outputs": [],
   "source": [
    "# svc = SVC(kernel='poly', C=100)                                             \n",
    "# svc.fit(x_train, y_train)                                       \n",
    "\n",
    "# training_accuracy = svc.score(x_train, y_train)\n",
    "# print ('Training Accuracy:',training_accuracy)\n",
    "# test_accuracy = svc.score(x_test, y_test)\n",
    "# print ('Testing Accuracy:',test_accuracy)"
   ]
  },
  {
   "cell_type": "code",
   "execution_count": null,
   "metadata": {},
   "outputs": [],
   "source": [
    "# perceptron = Perceptron()                           \n",
    "# perceptron.fit(x_train, y_train)                                     \n",
    "\n",
    "# training_accuracy = perceptron.score(x_train, y_train)\n",
    "# print ('Training Accuracy:',training_accuracy)\n",
    "# test_accuracy = perceptron.score(x_test, y_test)\n",
    "# print ('Testing Accuracy:',test_accuracy)"
   ]
  },
  {
   "cell_type": "code",
   "execution_count": null,
   "metadata": {},
   "outputs": [],
   "source": [
    "import seaborn as sns\n",
    "t = d.groupby(['job_level', 'call_disposition'], as_index = False)[['company_id']].count()\n",
    "t = t.rename(columns = {'company_id':'count'})\n",
    "sns.set(rc={'figure.figsize':(20, 12)})\n",
    "sns.barplot(x = t['job_level'], y = t['count'], hue = t['call_disposition'])\n",
    "plt.title(\"Activity (Calls) Count by Different Job Level \")\n",
    "plt.savefig('sample1.png')\n",
    "# the frequency of different job level people response to the call"
   ]
  },
  {
   "cell_type": "code",
   "execution_count": null,
   "metadata": {},
   "outputs": [],
   "source": [
    "t1 = d.groupby(['job_level', 'activity_type'], as_index = False)[['company_id']].count()\n",
    "t1 = t1.rename(columns = {'company_id':'count'})\n",
    "sns.set(rc={'figure.figsize':(20, 12)})\n",
    "sns.barplot(x = t1['job_level'], y = t1['count'], hue = t1['activity_type'])\n",
    "plt.title(\"Activity (Emails) Count by Different Job Level \", fontsize=20)\n",
    "plt.savefig('sample2.png')"
   ]
  },
  {
   "cell_type": "code",
   "execution_count": null,
   "metadata": {},
   "outputs": [],
   "source": [
    "t3 = d.groupby(['hour', 'call_disposition'], as_index = False)[['company_id']].count()\n",
    "t3 = t3.rename(columns = {'company_id':'count'})\n",
    "sns.set(rc={'figure.figsize':(20, 12)})\n",
    "sns.barplot(x = t3['hour'], y = t3['count'], hue = t3['call_disposition'])\n",
    "plt.title(\"Activity (Calls) Count by Hours\")\n",
    "plt.savefig('sample3.png')"
   ]
  },
  {
   "cell_type": "code",
   "execution_count": null,
   "metadata": {},
   "outputs": [],
   "source": [
    "t4 = d.groupby(['day', 'job_level'], as_index = False)[['company_id']].count()\n",
    "t4 = t4.rename(columns = {'company_id':'count'})\n",
    "sns.set(rc={'figure.figsize':(20, 12)})\n",
    "sns.barplot(x = t4['day'], y = t4['count'], hue = t4['job_level'])\n",
    "plt.title(\"Daily Activity Count by Different Job Level \")\n",
    "plt.savefig('sample4.png')"
   ]
  },
  {
   "cell_type": "code",
   "execution_count": null,
   "metadata": {},
   "outputs": [],
   "source": []
  },
  {
   "cell_type": "code",
   "execution_count": null,
   "metadata": {},
   "outputs": [],
   "source": []
  }
 ],
 "metadata": {
  "kernelspec": {
   "display_name": "Python 3",
   "language": "python",
   "name": "python3"
  },
  "language_info": {
   "codemirror_mode": {
    "name": "ipython",
    "version": 3
   },
   "file_extension": ".py",
   "mimetype": "text/x-python",
   "name": "python",
   "nbconvert_exporter": "python",
   "pygments_lexer": "ipython3",
   "version": "3.8.5"
  }
 },
 "nbformat": 4,
 "nbformat_minor": 4
}
