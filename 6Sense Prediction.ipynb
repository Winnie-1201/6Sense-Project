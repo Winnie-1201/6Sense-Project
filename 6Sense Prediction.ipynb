{
 "cells": [
  {
   "cell_type": "code",
   "execution_count": 468,
   "metadata": {},
   "outputs": [],
   "source": [
    "import pandas as pd\n",
    "import matplotlib.pyplot as plt\n",
    "import pandas as pd\n",
    "import numpy as np\n",
    "import matplotlib.pyplot as plt\n",
    "from collections import Counter\n",
    "import random\n",
    "from sklearn.linear_model import LogisticRegression\n",
    "from sklearn.svm import SVC, LinearSVC\n",
    "from sklearn.ensemble import RandomForestClassifier\n",
    "from sklearn.model_selection import train_test_split\n",
    "from sklearn.ensemble import RandomForestRegressor\n",
    "from sklearn.neighbors import KNeighborsClassifier\n",
    "from sklearn.naive_bayes import GaussianNB\n",
    "from sklearn.linear_model import Perceptron\n",
    "from sklearn.linear_model import SGDClassifier\n",
    "from sklearn.tree import DecisionTreeClassifier\n",
    "\n",
    "from datetime import datetime\n",
    "import pandas as pd\n",
    "import numpy as np\n",
    "import matplotlib.pyplot as plt\n",
    "from collections import Counter"
   ]
  },
  {
   "cell_type": "markdown",
   "metadata": {},
   "source": [
    "## 1) Some basic information about the files"
   ]
  },
  {
   "cell_type": "code",
   "execution_count": 469,
   "metadata": {},
   "outputs": [],
   "source": [
    "events = pd.read_csv(\"Customer1/events.csv\")\n",
    "calls = pd.read_csv(\"Customer1/calls.csv\")\n",
    "company = pd.read_csv(\"Customer1/companies.csv\")\n",
    "people = pd.read_csv(\"Customer1/people.csv\")\n",
    "opport = pd.read_csv(\"Customer1/opportunities.csv\")\n",
    "events = events.rename(columns={\"date\": \"event_date\"})"
   ]
  },
  {
   "cell_type": "code",
   "execution_count": 470,
   "metadata": {},
   "outputs": [
    {
     "name": "stdout",
     "output_type": "stream",
     "text": [
      "the size of each file: \n",
      "events: 111525\n",
      "calls: 367005\n",
      "company: 31110\n",
      "people: 64429\n",
      "opportunity: 3213\n"
     ]
    }
   ],
   "source": [
    "print('the size of each file: ')\n",
    "print('events:', len(events))\n",
    "print('calls:', len(calls))\n",
    "print('company:', len(company))\n",
    "print('people:', len(people))\n",
    "print('opportunity:', len(opport))\n"
   ]
  },
  {
   "cell_type": "code",
   "execution_count": 471,
   "metadata": {},
   "outputs": [
    {
     "name": "stdout",
     "output_type": "stream",
     "text": [
      "the columns of each file: \n",
      "events:  Index(['event_date', 'activity_action', 'activity_type', 'contact_id'], dtype='object')\n",
      "calls:  Index(['date', 'timestamp', 'call_disposition', 'contact_id'], dtype='object')\n",
      "company:  Index(['company_id', 'industry', 'employee_range'], dtype='object')\n",
      "people:  Index(['job_level', 'job_function', 'company_id', 'contact_id'], dtype='object')\n",
      "opportunity:  Index(['company_id', 'created_date'], dtype='object')\n"
     ]
    }
   ],
   "source": [
    "print('the columns of each file: ')\n",
    "print('events: ', events.columns)\n",
    "print('calls: ', calls.columns)\n",
    "print('company: ', company.columns)\n",
    "print('people: ', people.columns)\n",
    "print('opportunity: ', opport.columns)"
   ]
  },
  {
   "cell_type": "code",
   "execution_count": 472,
   "metadata": {},
   "outputs": [
    {
     "data": {
      "text/plain": [
       "view                  36547\n",
       "open                  29646\n",
       "fill_out              19870\n",
       "click                 13464\n",
       "filled_out_form       11789\n",
       "attended_in_person      209\n",
       "Name: activity_action, dtype: int64"
      ]
     },
     "execution_count": 472,
     "metadata": {},
     "output_type": "execute_result"
    }
   ],
   "source": [
    "events['activity_action'].value_counts()\n"
   ]
  },
  {
   "cell_type": "code",
   "execution_count": 473,
   "metadata": {},
   "outputs": [
    {
     "data": {
      "text/plain": [
       "known_web_visit    36547\n",
       "form_fill          31659\n",
       "email_open         29646\n",
       "email_click        13464\n",
       "attended_event       209\n",
       "Name: activity_type, dtype: int64"
      ]
     },
     "execution_count": 473,
     "metadata": {},
     "output_type": "execute_result"
    }
   ],
   "source": [
    "events['activity_type'].value_counts()\n",
    "    "
   ]
  },
  {
   "cell_type": "markdown",
   "metadata": {},
   "source": [
    "* it can be seen that fill_out and filled_out_form are the same events, so I will use activity_type to merge the table in order to avoid duplicated while merging tables"
   ]
  },
  {
   "cell_type": "markdown",
   "metadata": {},
   "source": [
    "## 2) Merge a new table"
   ]
  },
  {
   "cell_type": "markdown",
   "metadata": {},
   "source": [
    "### a) Create new tables for events and calls without duplicates"
   ]
  },
  {
   "cell_type": "code",
   "execution_count": 474,
   "metadata": {},
   "outputs": [
    {
     "name": "stdout",
     "output_type": "stream",
     "text": [
      "the size of new tables: \n",
      "new_events:  99780\n",
      "new_calls:  266201\n"
     ]
    }
   ],
   "source": [
    "new_events = events.groupby(['contact_id', 'event_date', 'activity_type'], as_index = False).count().rename(columns = {'activity_action':'activity_count'})   \n",
    "new_calls = calls.groupby(['contact_id', 'date', 'call_disposition'], as_index = False).count().rename(columns = {'timestamp':'call_count'})\n",
    "\n",
    "print('the size of new tables: ')\n",
    "print('new_events: ', len(new_events))\n",
    "print('new_calls: ', len(new_calls))"
   ]
  },
  {
   "cell_type": "code",
   "execution_count": 475,
   "metadata": {},
   "outputs": [
    {
     "data": {
      "text/html": [
       "<div>\n",
       "<style scoped>\n",
       "    .dataframe tbody tr th:only-of-type {\n",
       "        vertical-align: middle;\n",
       "    }\n",
       "\n",
       "    .dataframe tbody tr th {\n",
       "        vertical-align: top;\n",
       "    }\n",
       "\n",
       "    .dataframe thead th {\n",
       "        text-align: right;\n",
       "    }\n",
       "</style>\n",
       "<table border=\"1\" class=\"dataframe\">\n",
       "  <thead>\n",
       "    <tr style=\"text-align: right;\">\n",
       "      <th></th>\n",
       "      <th>contact_id</th>\n",
       "      <th>event_date</th>\n",
       "      <th>activity_type</th>\n",
       "      <th>activity_count</th>\n",
       "    </tr>\n",
       "  </thead>\n",
       "  <tbody>\n",
       "    <tr>\n",
       "      <th>0</th>\n",
       "      <td>40008cab9a95789c6</td>\n",
       "      <td>2019-08-20</td>\n",
       "      <td>form_fill</td>\n",
       "      <td>1</td>\n",
       "    </tr>\n",
       "    <tr>\n",
       "      <th>1</th>\n",
       "      <td>40008cab9a95789c6</td>\n",
       "      <td>2019-08-20</td>\n",
       "      <td>known_web_visit</td>\n",
       "      <td>1</td>\n",
       "    </tr>\n",
       "    <tr>\n",
       "      <th>2</th>\n",
       "      <td>400097495c858cc5b</td>\n",
       "      <td>2019-10-10</td>\n",
       "      <td>form_fill</td>\n",
       "      <td>2</td>\n",
       "    </tr>\n",
       "    <tr>\n",
       "      <th>3</th>\n",
       "      <td>4000bb6585ca64a04</td>\n",
       "      <td>2019-08-01</td>\n",
       "      <td>form_fill</td>\n",
       "      <td>1</td>\n",
       "    </tr>\n",
       "    <tr>\n",
       "      <th>4</th>\n",
       "      <td>4000bb6585ca64a04</td>\n",
       "      <td>2019-08-01</td>\n",
       "      <td>known_web_visit</td>\n",
       "      <td>1</td>\n",
       "    </tr>\n",
       "  </tbody>\n",
       "</table>\n",
       "</div>"
      ],
      "text/plain": [
       "          contact_id  event_date    activity_type  activity_count\n",
       "0  40008cab9a95789c6  2019-08-20        form_fill               1\n",
       "1  40008cab9a95789c6  2019-08-20  known_web_visit               1\n",
       "2  400097495c858cc5b  2019-10-10        form_fill               2\n",
       "3  4000bb6585ca64a04  2019-08-01        form_fill               1\n",
       "4  4000bb6585ca64a04  2019-08-01  known_web_visit               1"
      ]
     },
     "execution_count": 475,
     "metadata": {},
     "output_type": "execute_result"
    }
   ],
   "source": [
    "new_events.head()"
   ]
  },
  {
   "cell_type": "code",
   "execution_count": 476,
   "metadata": {},
   "outputs": [
    {
     "data": {
      "text/html": [
       "<div>\n",
       "<style scoped>\n",
       "    .dataframe tbody tr th:only-of-type {\n",
       "        vertical-align: middle;\n",
       "    }\n",
       "\n",
       "    .dataframe tbody tr th {\n",
       "        vertical-align: top;\n",
       "    }\n",
       "\n",
       "    .dataframe thead th {\n",
       "        text-align: right;\n",
       "    }\n",
       "</style>\n",
       "<table border=\"1\" class=\"dataframe\">\n",
       "  <thead>\n",
       "    <tr style=\"text-align: right;\">\n",
       "      <th></th>\n",
       "      <th>contact_id</th>\n",
       "      <th>date</th>\n",
       "      <th>call_disposition</th>\n",
       "      <th>call_count</th>\n",
       "    </tr>\n",
       "  </thead>\n",
       "  <tbody>\n",
       "    <tr>\n",
       "      <th>0</th>\n",
       "      <td>4000047a5b09764c</td>\n",
       "      <td>2019-09-19</td>\n",
       "      <td>No Answer</td>\n",
       "      <td>2</td>\n",
       "    </tr>\n",
       "    <tr>\n",
       "      <th>1</th>\n",
       "      <td>400008b800968b87b</td>\n",
       "      <td>2019-09-16</td>\n",
       "      <td>No Answer</td>\n",
       "      <td>1</td>\n",
       "    </tr>\n",
       "    <tr>\n",
       "      <th>2</th>\n",
       "      <td>400008b800968b87b</td>\n",
       "      <td>2019-09-20</td>\n",
       "      <td>No Answer</td>\n",
       "      <td>1</td>\n",
       "    </tr>\n",
       "    <tr>\n",
       "      <th>3</th>\n",
       "      <td>400008b800968b87b</td>\n",
       "      <td>2019-09-24</td>\n",
       "      <td>No Answer</td>\n",
       "      <td>1</td>\n",
       "    </tr>\n",
       "    <tr>\n",
       "      <th>4</th>\n",
       "      <td>400008b800968b87b</td>\n",
       "      <td>2019-10-02</td>\n",
       "      <td>No Answer</td>\n",
       "      <td>1</td>\n",
       "    </tr>\n",
       "  </tbody>\n",
       "</table>\n",
       "</div>"
      ],
      "text/plain": [
       "          contact_id        date call_disposition  call_count\n",
       "0   4000047a5b09764c  2019-09-19        No Answer           2\n",
       "1  400008b800968b87b  2019-09-16        No Answer           1\n",
       "2  400008b800968b87b  2019-09-20        No Answer           1\n",
       "3  400008b800968b87b  2019-09-24        No Answer           1\n",
       "4  400008b800968b87b  2019-10-02        No Answer           1"
      ]
     },
     "execution_count": 476,
     "metadata": {},
     "output_type": "execute_result"
    }
   ],
   "source": [
    "new_calls.head()\n"
   ]
  },
  {
   "cell_type": "markdown",
   "metadata": {},
   "source": [
    "### b) Merging a new table"
   ]
  },
  {
   "cell_type": "code",
   "execution_count": 477,
   "metadata": {},
   "outputs": [
    {
     "data": {
      "text/html": [
       "<div>\n",
       "<style scoped>\n",
       "    .dataframe tbody tr th:only-of-type {\n",
       "        vertical-align: middle;\n",
       "    }\n",
       "\n",
       "    .dataframe tbody tr th {\n",
       "        vertical-align: top;\n",
       "    }\n",
       "\n",
       "    .dataframe thead th {\n",
       "        text-align: right;\n",
       "    }\n",
       "</style>\n",
       "<table border=\"1\" class=\"dataframe\">\n",
       "  <thead>\n",
       "    <tr style=\"text-align: right;\">\n",
       "      <th></th>\n",
       "      <th>contact_id</th>\n",
       "      <th>date</th>\n",
       "      <th>call_disposition</th>\n",
       "      <th>call_count</th>\n",
       "      <th>event_date</th>\n",
       "      <th>activity_type</th>\n",
       "      <th>activity_count</th>\n",
       "      <th>job_level</th>\n",
       "      <th>job_function</th>\n",
       "      <th>company_id</th>\n",
       "      <th>industry</th>\n",
       "      <th>employee_range</th>\n",
       "    </tr>\n",
       "  </thead>\n",
       "  <tbody>\n",
       "    <tr>\n",
       "      <th>0</th>\n",
       "      <td>40008cab9a95789c6</td>\n",
       "      <td>2019-08-20</td>\n",
       "      <td>MC - No Need</td>\n",
       "      <td>1</td>\n",
       "      <td>2019-08-20</td>\n",
       "      <td>form_fill</td>\n",
       "      <td>1</td>\n",
       "      <td>Other</td>\n",
       "      <td>Other</td>\n",
       "      <td>.812e6c37a26b2d2</td>\n",
       "      <td>Healthcare and Medical</td>\n",
       "      <td>0 - 9</td>\n",
       "    </tr>\n",
       "    <tr>\n",
       "      <th>1</th>\n",
       "      <td>40008cab9a95789c6</td>\n",
       "      <td>2019-08-20</td>\n",
       "      <td>MC - No Need</td>\n",
       "      <td>1</td>\n",
       "      <td>2019-08-20</td>\n",
       "      <td>known_web_visit</td>\n",
       "      <td>1</td>\n",
       "      <td>Other</td>\n",
       "      <td>Other</td>\n",
       "      <td>.812e6c37a26b2d2</td>\n",
       "      <td>Healthcare and Medical</td>\n",
       "      <td>0 - 9</td>\n",
       "    </tr>\n",
       "    <tr>\n",
       "      <th>2</th>\n",
       "      <td>400097495c858cc5b</td>\n",
       "      <td>2019-10-10</td>\n",
       "      <td>No Answer</td>\n",
       "      <td>1</td>\n",
       "      <td>2019-10-10</td>\n",
       "      <td>form_fill</td>\n",
       "      <td>2</td>\n",
       "      <td>C-Level</td>\n",
       "      <td>Management</td>\n",
       "      <td>e215e54457e5469</td>\n",
       "      <td>Manufacturing</td>\n",
       "      <td>0 - 9</td>\n",
       "    </tr>\n",
       "    <tr>\n",
       "      <th>3</th>\n",
       "      <td>4000bb6585ca64a04</td>\n",
       "      <td>2019-08-01</td>\n",
       "      <td>No Answer</td>\n",
       "      <td>1</td>\n",
       "      <td>2019-08-01</td>\n",
       "      <td>form_fill</td>\n",
       "      <td>1</td>\n",
       "      <td>Manager</td>\n",
       "      <td>Information Technology</td>\n",
       "      <td>afca90b262cd9d0</td>\n",
       "      <td>Software and Technology</td>\n",
       "      <td>50 - 99</td>\n",
       "    </tr>\n",
       "    <tr>\n",
       "      <th>4</th>\n",
       "      <td>4000bb6585ca64a04</td>\n",
       "      <td>2019-08-01</td>\n",
       "      <td>No Answer</td>\n",
       "      <td>1</td>\n",
       "      <td>2019-08-01</td>\n",
       "      <td>known_web_visit</td>\n",
       "      <td>1</td>\n",
       "      <td>Manager</td>\n",
       "      <td>Information Technology</td>\n",
       "      <td>afca90b262cd9d0</td>\n",
       "      <td>Software and Technology</td>\n",
       "      <td>50 - 99</td>\n",
       "    </tr>\n",
       "  </tbody>\n",
       "</table>\n",
       "</div>"
      ],
      "text/plain": [
       "          contact_id        date call_disposition  call_count  event_date  \\\n",
       "0  40008cab9a95789c6  2019-08-20     MC - No Need           1  2019-08-20   \n",
       "1  40008cab9a95789c6  2019-08-20     MC - No Need           1  2019-08-20   \n",
       "2  400097495c858cc5b  2019-10-10        No Answer           1  2019-10-10   \n",
       "3  4000bb6585ca64a04  2019-08-01        No Answer           1  2019-08-01   \n",
       "4  4000bb6585ca64a04  2019-08-01        No Answer           1  2019-08-01   \n",
       "\n",
       "     activity_type  activity_count job_level            job_function  \\\n",
       "0        form_fill               1     Other                   Other   \n",
       "1  known_web_visit               1     Other                   Other   \n",
       "2        form_fill               2   C-Level              Management   \n",
       "3        form_fill               1   Manager  Information Technology   \n",
       "4  known_web_visit               1   Manager  Information Technology   \n",
       "\n",
       "         company_id                 industry employee_range  \n",
       "0  .812e6c37a26b2d2   Healthcare and Medical          0 - 9  \n",
       "1  .812e6c37a26b2d2   Healthcare and Medical          0 - 9  \n",
       "2   e215e54457e5469            Manufacturing          0 - 9  \n",
       "3   afca90b262cd9d0  Software and Technology        50 - 99  \n",
       "4   afca90b262cd9d0  Software and Technology        50 - 99  "
      ]
     },
     "execution_count": 477,
     "metadata": {},
     "output_type": "execute_result"
    }
   ],
   "source": [
    "a = new_calls.merge(new_events, on = 'contact_id', how = 'inner')\n",
    "b = a.merge(people, on = 'contact_id', how = 'inner')\n",
    "merge = b.merge(company, on = 'company_id', how = 'inner')\n",
    "merge.head()"
   ]
  },
  {
   "cell_type": "code",
   "execution_count": 478,
   "metadata": {},
   "outputs": [],
   "source": [
    "opp = np.zeros(len(merge))\n",
    "for i in range(len(merge)):\n",
    "    if merge['company_id'][i] in opport['company_id'].values:\n",
    "        opp[i] = 1"
   ]
  },
  {
   "cell_type": "code",
   "execution_count": 479,
   "metadata": {},
   "outputs": [
    {
     "data": {
      "text/html": [
       "<div>\n",
       "<style scoped>\n",
       "    .dataframe tbody tr th:only-of-type {\n",
       "        vertical-align: middle;\n",
       "    }\n",
       "\n",
       "    .dataframe tbody tr th {\n",
       "        vertical-align: top;\n",
       "    }\n",
       "\n",
       "    .dataframe thead th {\n",
       "        text-align: right;\n",
       "    }\n",
       "</style>\n",
       "<table border=\"1\" class=\"dataframe\">\n",
       "  <thead>\n",
       "    <tr style=\"text-align: right;\">\n",
       "      <th></th>\n",
       "      <th>contact_id</th>\n",
       "      <th>date</th>\n",
       "      <th>call_disposition</th>\n",
       "      <th>call_count</th>\n",
       "      <th>event_date</th>\n",
       "      <th>activity_type</th>\n",
       "      <th>activity_count</th>\n",
       "      <th>job_level</th>\n",
       "      <th>job_function</th>\n",
       "      <th>industry</th>\n",
       "      <th>employee_range</th>\n",
       "      <th>opportunity</th>\n",
       "    </tr>\n",
       "  </thead>\n",
       "  <tbody>\n",
       "    <tr>\n",
       "      <th>0</th>\n",
       "      <td>40008cab9a95789c6</td>\n",
       "      <td>2019-08-20</td>\n",
       "      <td>MC - No Need</td>\n",
       "      <td>1</td>\n",
       "      <td>2019-08-20</td>\n",
       "      <td>form_fill</td>\n",
       "      <td>1</td>\n",
       "      <td>Other</td>\n",
       "      <td>Other</td>\n",
       "      <td>Healthcare and Medical</td>\n",
       "      <td>0 - 9</td>\n",
       "      <td>0.0</td>\n",
       "    </tr>\n",
       "    <tr>\n",
       "      <th>1</th>\n",
       "      <td>40008cab9a95789c6</td>\n",
       "      <td>2019-08-20</td>\n",
       "      <td>MC - No Need</td>\n",
       "      <td>1</td>\n",
       "      <td>2019-08-20</td>\n",
       "      <td>known_web_visit</td>\n",
       "      <td>1</td>\n",
       "      <td>Other</td>\n",
       "      <td>Other</td>\n",
       "      <td>Healthcare and Medical</td>\n",
       "      <td>0 - 9</td>\n",
       "      <td>0.0</td>\n",
       "    </tr>\n",
       "    <tr>\n",
       "      <th>2</th>\n",
       "      <td>400097495c858cc5b</td>\n",
       "      <td>2019-10-10</td>\n",
       "      <td>No Answer</td>\n",
       "      <td>1</td>\n",
       "      <td>2019-10-10</td>\n",
       "      <td>form_fill</td>\n",
       "      <td>2</td>\n",
       "      <td>C-Level</td>\n",
       "      <td>Management</td>\n",
       "      <td>Manufacturing</td>\n",
       "      <td>0 - 9</td>\n",
       "      <td>0.0</td>\n",
       "    </tr>\n",
       "    <tr>\n",
       "      <th>3</th>\n",
       "      <td>4000bb6585ca64a04</td>\n",
       "      <td>2019-08-01</td>\n",
       "      <td>No Answer</td>\n",
       "      <td>1</td>\n",
       "      <td>2019-08-01</td>\n",
       "      <td>form_fill</td>\n",
       "      <td>1</td>\n",
       "      <td>Manager</td>\n",
       "      <td>Information Technology</td>\n",
       "      <td>Software and Technology</td>\n",
       "      <td>50 - 99</td>\n",
       "      <td>0.0</td>\n",
       "    </tr>\n",
       "    <tr>\n",
       "      <th>4</th>\n",
       "      <td>4000bb6585ca64a04</td>\n",
       "      <td>2019-08-01</td>\n",
       "      <td>No Answer</td>\n",
       "      <td>1</td>\n",
       "      <td>2019-08-01</td>\n",
       "      <td>known_web_visit</td>\n",
       "      <td>1</td>\n",
       "      <td>Manager</td>\n",
       "      <td>Information Technology</td>\n",
       "      <td>Software and Technology</td>\n",
       "      <td>50 - 99</td>\n",
       "      <td>0.0</td>\n",
       "    </tr>\n",
       "  </tbody>\n",
       "</table>\n",
       "</div>"
      ],
      "text/plain": [
       "          contact_id        date call_disposition  call_count  event_date  \\\n",
       "0  40008cab9a95789c6  2019-08-20     MC - No Need           1  2019-08-20   \n",
       "1  40008cab9a95789c6  2019-08-20     MC - No Need           1  2019-08-20   \n",
       "2  400097495c858cc5b  2019-10-10        No Answer           1  2019-10-10   \n",
       "3  4000bb6585ca64a04  2019-08-01        No Answer           1  2019-08-01   \n",
       "4  4000bb6585ca64a04  2019-08-01        No Answer           1  2019-08-01   \n",
       "\n",
       "     activity_type  activity_count job_level            job_function  \\\n",
       "0        form_fill               1     Other                   Other   \n",
       "1  known_web_visit               1     Other                   Other   \n",
       "2        form_fill               2   C-Level              Management   \n",
       "3        form_fill               1   Manager  Information Technology   \n",
       "4  known_web_visit               1   Manager  Information Technology   \n",
       "\n",
       "                  industry employee_range  opportunity  \n",
       "0   Healthcare and Medical          0 - 9          0.0  \n",
       "1   Healthcare and Medical          0 - 9          0.0  \n",
       "2            Manufacturing          0 - 9          0.0  \n",
       "3  Software and Technology        50 - 99          0.0  \n",
       "4  Software and Technology        50 - 99          0.0  "
      ]
     },
     "execution_count": 479,
     "metadata": {},
     "output_type": "execute_result"
    }
   ],
   "source": [
    "merge['opportunity'] = opp\n",
    "del merge['company_id']\n",
    "merge.head()"
   ]
  },
  {
   "cell_type": "markdown",
   "metadata": {},
   "source": [
    "### c) Delete all of the None values"
   ]
  },
  {
   "cell_type": "markdown",
   "metadata": {},
   "source": [
    "> it turns out that there is no None values"
   ]
  },
  {
   "cell_type": "code",
   "execution_count": 480,
   "metadata": {},
   "outputs": [
    {
     "name": "stdout",
     "output_type": "stream",
     "text": [
      "size of the table after deleting the None values: 535307\n"
     ]
    }
   ],
   "source": [
    "d = d.dropna()\n",
    "d = d.reset_index(drop=True)\n",
    "print('size of the table after deleting the None values:', len(merge))"
   ]
  },
  {
   "cell_type": "markdown",
   "metadata": {},
   "source": [
    "## 3) Feature Engineering"
   ]
  },
  {
   "cell_type": "markdown",
   "metadata": {},
   "source": [
    "### a) Adding new features"
   ]
  },
  {
   "cell_type": "markdown",
   "metadata": {},
   "source": [
    "#### i) Feature one: the day difference between call date and event date"
   ]
  },
  {
   "cell_type": "code",
   "execution_count": 481,
   "metadata": {},
   "outputs": [],
   "source": [
    "merge['event_date'] =  pd.to_datetime(merge['event_date'])\n",
    "merge['event_day'] = pd.Series([merge['event_date'][i].strftime('%a') for i in range(len(merge))])\n",
    "merge['date'] =  pd.to_datetime(merge['date'])\n",
    "merge['diff'] = (merge['date'] - merge['event_date']).dt.days\n"
   ]
  },
  {
   "cell_type": "code",
   "execution_count": 482,
   "metadata": {},
   "outputs": [
    {
     "data": {
      "text/html": [
       "<div>\n",
       "<style scoped>\n",
       "    .dataframe tbody tr th:only-of-type {\n",
       "        vertical-align: middle;\n",
       "    }\n",
       "\n",
       "    .dataframe tbody tr th {\n",
       "        vertical-align: top;\n",
       "    }\n",
       "\n",
       "    .dataframe thead th {\n",
       "        text-align: right;\n",
       "    }\n",
       "</style>\n",
       "<table border=\"1\" class=\"dataframe\">\n",
       "  <thead>\n",
       "    <tr style=\"text-align: right;\">\n",
       "      <th></th>\n",
       "      <th>contact_id</th>\n",
       "      <th>date</th>\n",
       "      <th>call_disposition</th>\n",
       "      <th>call_count</th>\n",
       "      <th>event_date</th>\n",
       "      <th>activity_type</th>\n",
       "      <th>activity_count</th>\n",
       "      <th>job_level</th>\n",
       "      <th>job_function</th>\n",
       "      <th>industry</th>\n",
       "      <th>employee_range</th>\n",
       "      <th>opportunity</th>\n",
       "      <th>event_day</th>\n",
       "      <th>diff</th>\n",
       "    </tr>\n",
       "  </thead>\n",
       "  <tbody>\n",
       "    <tr>\n",
       "      <th>0</th>\n",
       "      <td>40008cab9a95789c6</td>\n",
       "      <td>2019-08-20</td>\n",
       "      <td>MC - No Need</td>\n",
       "      <td>1</td>\n",
       "      <td>2019-08-20</td>\n",
       "      <td>form_fill</td>\n",
       "      <td>1</td>\n",
       "      <td>Other</td>\n",
       "      <td>Other</td>\n",
       "      <td>Healthcare and Medical</td>\n",
       "      <td>0 - 9</td>\n",
       "      <td>0.0</td>\n",
       "      <td>Tue</td>\n",
       "      <td>0</td>\n",
       "    </tr>\n",
       "    <tr>\n",
       "      <th>1</th>\n",
       "      <td>40008cab9a95789c6</td>\n",
       "      <td>2019-08-20</td>\n",
       "      <td>MC - No Need</td>\n",
       "      <td>1</td>\n",
       "      <td>2019-08-20</td>\n",
       "      <td>known_web_visit</td>\n",
       "      <td>1</td>\n",
       "      <td>Other</td>\n",
       "      <td>Other</td>\n",
       "      <td>Healthcare and Medical</td>\n",
       "      <td>0 - 9</td>\n",
       "      <td>0.0</td>\n",
       "      <td>Tue</td>\n",
       "      <td>0</td>\n",
       "    </tr>\n",
       "    <tr>\n",
       "      <th>2</th>\n",
       "      <td>400097495c858cc5b</td>\n",
       "      <td>2019-10-10</td>\n",
       "      <td>No Answer</td>\n",
       "      <td>1</td>\n",
       "      <td>2019-10-10</td>\n",
       "      <td>form_fill</td>\n",
       "      <td>2</td>\n",
       "      <td>C-Level</td>\n",
       "      <td>Management</td>\n",
       "      <td>Manufacturing</td>\n",
       "      <td>0 - 9</td>\n",
       "      <td>0.0</td>\n",
       "      <td>Thu</td>\n",
       "      <td>0</td>\n",
       "    </tr>\n",
       "    <tr>\n",
       "      <th>3</th>\n",
       "      <td>4000bb6585ca64a04</td>\n",
       "      <td>2019-08-01</td>\n",
       "      <td>No Answer</td>\n",
       "      <td>1</td>\n",
       "      <td>2019-08-01</td>\n",
       "      <td>form_fill</td>\n",
       "      <td>1</td>\n",
       "      <td>Manager</td>\n",
       "      <td>Information Technology</td>\n",
       "      <td>Software and Technology</td>\n",
       "      <td>50 - 99</td>\n",
       "      <td>0.0</td>\n",
       "      <td>Thu</td>\n",
       "      <td>0</td>\n",
       "    </tr>\n",
       "    <tr>\n",
       "      <th>4</th>\n",
       "      <td>4000bb6585ca64a04</td>\n",
       "      <td>2019-08-01</td>\n",
       "      <td>No Answer</td>\n",
       "      <td>1</td>\n",
       "      <td>2019-08-01</td>\n",
       "      <td>known_web_visit</td>\n",
       "      <td>1</td>\n",
       "      <td>Manager</td>\n",
       "      <td>Information Technology</td>\n",
       "      <td>Software and Technology</td>\n",
       "      <td>50 - 99</td>\n",
       "      <td>0.0</td>\n",
       "      <td>Thu</td>\n",
       "      <td>0</td>\n",
       "    </tr>\n",
       "  </tbody>\n",
       "</table>\n",
       "</div>"
      ],
      "text/plain": [
       "          contact_id       date call_disposition  call_count event_date  \\\n",
       "0  40008cab9a95789c6 2019-08-20     MC - No Need           1 2019-08-20   \n",
       "1  40008cab9a95789c6 2019-08-20     MC - No Need           1 2019-08-20   \n",
       "2  400097495c858cc5b 2019-10-10        No Answer           1 2019-10-10   \n",
       "3  4000bb6585ca64a04 2019-08-01        No Answer           1 2019-08-01   \n",
       "4  4000bb6585ca64a04 2019-08-01        No Answer           1 2019-08-01   \n",
       "\n",
       "     activity_type  activity_count job_level            job_function  \\\n",
       "0        form_fill               1     Other                   Other   \n",
       "1  known_web_visit               1     Other                   Other   \n",
       "2        form_fill               2   C-Level              Management   \n",
       "3        form_fill               1   Manager  Information Technology   \n",
       "4  known_web_visit               1   Manager  Information Technology   \n",
       "\n",
       "                  industry employee_range  opportunity event_day  diff  \n",
       "0   Healthcare and Medical          0 - 9          0.0       Tue     0  \n",
       "1   Healthcare and Medical          0 - 9          0.0       Tue     0  \n",
       "2            Manufacturing          0 - 9          0.0       Thu     0  \n",
       "3  Software and Technology        50 - 99          0.0       Thu     0  \n",
       "4  Software and Technology        50 - 99          0.0       Thu     0  "
      ]
     },
     "execution_count": 482,
     "metadata": {},
     "output_type": "execute_result"
    }
   ],
   "source": [
    "merge.head()"
   ]
  },
  {
   "cell_type": "code",
   "execution_count": 483,
   "metadata": {},
   "outputs": [
    {
     "data": {
      "text/plain": [
       "Text(0.5, 1.0, 'Day Different Between Events Day and Call Day')"
      ]
     },
     "execution_count": 483,
     "metadata": {},
     "output_type": "execute_result"
    },
    {
     "data": {
      "image/png": "[encoded data removed]",
      "text/plain": [
       "<Figure size 576x432 with 1 Axes>"
      ]
     },
     "metadata": {
      "needs_background": "light"
     },
     "output_type": "display_data"
    }
   ],
   "source": [
    "df = merge[merge['call_disposition'].str.contains('MC')]\n",
    "plt.figure(figsize=(8,6))\n",
    "plt.hist(x = df['diff'], bins = 50)\n",
    "plt.xlabel('Days')\n",
    "plt.ylabel('Counts')\n",
    "plt.title('Day Different Between Events Day and Call Day')"
   ]
  },
  {
   "cell_type": "markdown",
   "metadata": {},
   "source": [
    "> * the plot of the day difference using the calls with meaningful conversation\n",
    "> * it can be seen that most of the meaningful conversation was made within few days after the customers' activities related to 6Sense"
   ]
  },
  {
   "cell_type": "markdown",
   "metadata": {},
   "source": [
    "#### ii) Feature two: the total count of activity action for each contact_id"
   ]
  },
  {
   "cell_type": "code",
   "execution_count": 484,
   "metadata": {},
   "outputs": [
    {
     "data": {
      "text/html": [
       "<div>\n",
       "<style scoped>\n",
       "    .dataframe tbody tr th:only-of-type {\n",
       "        vertical-align: middle;\n",
       "    }\n",
       "\n",
       "    .dataframe tbody tr th {\n",
       "        vertical-align: top;\n",
       "    }\n",
       "\n",
       "    .dataframe thead th {\n",
       "        text-align: right;\n",
       "    }\n",
       "</style>\n",
       "<table border=\"1\" class=\"dataframe\">\n",
       "  <thead>\n",
       "    <tr style=\"text-align: right;\">\n",
       "      <th></th>\n",
       "      <th>contact_id</th>\n",
       "      <th>date</th>\n",
       "      <th>call_disposition</th>\n",
       "      <th>call_count</th>\n",
       "      <th>event_date</th>\n",
       "      <th>activity_type</th>\n",
       "      <th>activity_count</th>\n",
       "      <th>job_level</th>\n",
       "      <th>job_function</th>\n",
       "      <th>industry</th>\n",
       "      <th>employee_range</th>\n",
       "      <th>opportunity</th>\n",
       "      <th>event_day</th>\n",
       "      <th>diff</th>\n",
       "      <th>total count</th>\n",
       "    </tr>\n",
       "  </thead>\n",
       "  <tbody>\n",
       "    <tr>\n",
       "      <th>0</th>\n",
       "      <td>40008cab9a95789c6</td>\n",
       "      <td>2019-08-20</td>\n",
       "      <td>MC - No Need</td>\n",
       "      <td>1</td>\n",
       "      <td>2019-08-20</td>\n",
       "      <td>form_fill</td>\n",
       "      <td>1</td>\n",
       "      <td>Other</td>\n",
       "      <td>Other</td>\n",
       "      <td>Healthcare and Medical</td>\n",
       "      <td>0 - 9</td>\n",
       "      <td>0.0</td>\n",
       "      <td>Tue</td>\n",
       "      <td>0</td>\n",
       "      <td>2</td>\n",
       "    </tr>\n",
       "    <tr>\n",
       "      <th>1</th>\n",
       "      <td>40008cab9a95789c6</td>\n",
       "      <td>2019-08-20</td>\n",
       "      <td>MC - No Need</td>\n",
       "      <td>1</td>\n",
       "      <td>2019-08-20</td>\n",
       "      <td>known_web_visit</td>\n",
       "      <td>1</td>\n",
       "      <td>Other</td>\n",
       "      <td>Other</td>\n",
       "      <td>Healthcare and Medical</td>\n",
       "      <td>0 - 9</td>\n",
       "      <td>0.0</td>\n",
       "      <td>Tue</td>\n",
       "      <td>0</td>\n",
       "      <td>2</td>\n",
       "    </tr>\n",
       "    <tr>\n",
       "      <th>2</th>\n",
       "      <td>400097495c858cc5b</td>\n",
       "      <td>2019-10-10</td>\n",
       "      <td>No Answer</td>\n",
       "      <td>1</td>\n",
       "      <td>2019-10-10</td>\n",
       "      <td>form_fill</td>\n",
       "      <td>2</td>\n",
       "      <td>C-Level</td>\n",
       "      <td>Management</td>\n",
       "      <td>Manufacturing</td>\n",
       "      <td>0 - 9</td>\n",
       "      <td>0.0</td>\n",
       "      <td>Thu</td>\n",
       "      <td>0</td>\n",
       "      <td>1</td>\n",
       "    </tr>\n",
       "    <tr>\n",
       "      <th>3</th>\n",
       "      <td>4000bb6585ca64a04</td>\n",
       "      <td>2019-08-01</td>\n",
       "      <td>No Answer</td>\n",
       "      <td>1</td>\n",
       "      <td>2019-08-01</td>\n",
       "      <td>form_fill</td>\n",
       "      <td>1</td>\n",
       "      <td>Manager</td>\n",
       "      <td>Information Technology</td>\n",
       "      <td>Software and Technology</td>\n",
       "      <td>50 - 99</td>\n",
       "      <td>0.0</td>\n",
       "      <td>Thu</td>\n",
       "      <td>0</td>\n",
       "      <td>28</td>\n",
       "    </tr>\n",
       "    <tr>\n",
       "      <th>4</th>\n",
       "      <td>4000bb6585ca64a04</td>\n",
       "      <td>2019-08-01</td>\n",
       "      <td>No Answer</td>\n",
       "      <td>1</td>\n",
       "      <td>2019-08-01</td>\n",
       "      <td>known_web_visit</td>\n",
       "      <td>1</td>\n",
       "      <td>Manager</td>\n",
       "      <td>Information Technology</td>\n",
       "      <td>Software and Technology</td>\n",
       "      <td>50 - 99</td>\n",
       "      <td>0.0</td>\n",
       "      <td>Thu</td>\n",
       "      <td>0</td>\n",
       "      <td>28</td>\n",
       "    </tr>\n",
       "  </tbody>\n",
       "</table>\n",
       "</div>"
      ],
      "text/plain": [
       "          contact_id       date call_disposition  call_count event_date  \\\n",
       "0  40008cab9a95789c6 2019-08-20     MC - No Need           1 2019-08-20   \n",
       "1  40008cab9a95789c6 2019-08-20     MC - No Need           1 2019-08-20   \n",
       "2  400097495c858cc5b 2019-10-10        No Answer           1 2019-10-10   \n",
       "3  4000bb6585ca64a04 2019-08-01        No Answer           1 2019-08-01   \n",
       "4  4000bb6585ca64a04 2019-08-01        No Answer           1 2019-08-01   \n",
       "\n",
       "     activity_type  activity_count job_level            job_function  \\\n",
       "0        form_fill               1     Other                   Other   \n",
       "1  known_web_visit               1     Other                   Other   \n",
       "2        form_fill               2   C-Level              Management   \n",
       "3        form_fill               1   Manager  Information Technology   \n",
       "4  known_web_visit               1   Manager  Information Technology   \n",
       "\n",
       "                  industry employee_range  opportunity event_day  diff  \\\n",
       "0   Healthcare and Medical          0 - 9          0.0       Tue     0   \n",
       "1   Healthcare and Medical          0 - 9          0.0       Tue     0   \n",
       "2            Manufacturing          0 - 9          0.0       Thu     0   \n",
       "3  Software and Technology        50 - 99          0.0       Thu     0   \n",
       "4  Software and Technology        50 - 99          0.0       Thu     0   \n",
       "\n",
       "   total count  \n",
       "0            2  \n",
       "1            2  \n",
       "2            1  \n",
       "3           28  \n",
       "4           28  "
      ]
     },
     "execution_count": 484,
     "metadata": {},
     "output_type": "execute_result"
    }
   ],
   "source": [
    "total_count = merge.groupby('contact_id', as_index = False).size().rename(columns={'size':'total count'})\n",
    "\n",
    "merge = merge.merge(total_count, on = 'contact_id')\n",
    "\n",
    "merge.head()\n"
   ]
  },
  {
   "cell_type": "code",
   "execution_count": 613,
   "metadata": {},
   "outputs": [
    {
     "data": {
      "text/html": [
       "<div>\n",
       "<style scoped>\n",
       "    .dataframe tbody tr th:only-of-type {\n",
       "        vertical-align: middle;\n",
       "    }\n",
       "\n",
       "    .dataframe tbody tr th {\n",
       "        vertical-align: top;\n",
       "    }\n",
       "\n",
       "    .dataframe thead th {\n",
       "        text-align: right;\n",
       "    }\n",
       "</style>\n",
       "<table border=\"1\" class=\"dataframe\">\n",
       "  <thead>\n",
       "    <tr style=\"text-align: right;\">\n",
       "      <th></th>\n",
       "      <th></th>\n",
       "      <th>total count</th>\n",
       "    </tr>\n",
       "    <tr>\n",
       "      <th>call_disposition</th>\n",
       "      <th>activity_type</th>\n",
       "      <th></th>\n",
       "    </tr>\n",
       "  </thead>\n",
       "  <tbody>\n",
       "    <tr>\n",
       "      <th rowspan=\"5\" valign=\"top\">Bad Number</th>\n",
       "      <th>attended_event</th>\n",
       "      <td>6</td>\n",
       "    </tr>\n",
       "    <tr>\n",
       "      <th>email_click</th>\n",
       "      <td>1152</td>\n",
       "    </tr>\n",
       "    <tr>\n",
       "      <th>email_open</th>\n",
       "      <td>2694</td>\n",
       "    </tr>\n",
       "    <tr>\n",
       "      <th>form_fill</th>\n",
       "      <td>2815</td>\n",
       "    </tr>\n",
       "    <tr>\n",
       "      <th>known_web_visit</th>\n",
       "      <td>4499</td>\n",
       "    </tr>\n",
       "    <tr>\n",
       "      <th>...</th>\n",
       "      <th>...</th>\n",
       "      <td>...</td>\n",
       "    </tr>\n",
       "    <tr>\n",
       "      <th rowspan=\"5\" valign=\"top\">Wrong Point of Contact</th>\n",
       "      <th>attended_event</th>\n",
       "      <td>4</td>\n",
       "    </tr>\n",
       "    <tr>\n",
       "      <th>email_click</th>\n",
       "      <td>207</td>\n",
       "    </tr>\n",
       "    <tr>\n",
       "      <th>email_open</th>\n",
       "      <td>320</td>\n",
       "    </tr>\n",
       "    <tr>\n",
       "      <th>form_fill</th>\n",
       "      <td>287</td>\n",
       "    </tr>\n",
       "    <tr>\n",
       "      <th>known_web_visit</th>\n",
       "      <td>389</td>\n",
       "    </tr>\n",
       "  </tbody>\n",
       "</table>\n",
       "<p>84 rows × 1 columns</p>\n",
       "</div>"
      ],
      "text/plain": [
       "                                        total count\n",
       "call_disposition       activity_type               \n",
       "Bad Number             attended_event             6\n",
       "                       email_click             1152\n",
       "                       email_open              2694\n",
       "                       form_fill               2815\n",
       "                       known_web_visit         4499\n",
       "...                                             ...\n",
       "Wrong Point of Contact attended_event             4\n",
       "                       email_click              207\n",
       "                       email_open               320\n",
       "                       form_fill                287\n",
       "                       known_web_visit          389\n",
       "\n",
       "[84 rows x 1 columns]"
      ]
     },
     "execution_count": 613,
     "metadata": {},
     "output_type": "execute_result"
    }
   ],
   "source": [
    "total_c = merge[['call_disposition', \n",
    "                 'activity_type', \n",
    "                 'call_count']].groupby(['call_disposition', \n",
    "                                         'activity_type']).count().rename(columns={'call_count':'total count'})\n",
    "\n",
    "total_c"
   ]
  },
  {
   "cell_type": "code",
   "execution_count": 521,
   "metadata": {},
   "outputs": [
    {
     "data": {
      "text/plain": [
       "array(['MC - No Need', 'No Answer', 'Bad Number', 'Left Voicemail',\n",
       "       'MC - No Timeline', 'Call Back Later', 'MC - Meeting Confirmation',\n",
       "       'MC - Meaningful Conversation', 'MC - No Budget', 'MC - MQL/QMA',\n",
       "       'MC - No Technical Fit', 'MC - No Authority',\n",
       "       'Discovery Call Scheduled', 'Left Live Message',\n",
       "       'No Longer w/ Company', 'Wrong Point of Contact',\n",
       "       'Call - No Answer', 'Voicemail- Left Voicemail Drop'], dtype=object)"
      ]
     },
     "execution_count": 521,
     "metadata": {},
     "output_type": "execute_result"
    }
   ],
   "source": [
    "merge['call_disposition'].unique()"
   ]
  },
  {
   "cell_type": "code",
   "execution_count": 490,
   "metadata": {},
   "outputs": [
    {
     "data": {
      "text/plain": [
       "array(['form_fill', 'known_web_visit', 'email_click', 'email_open',\n",
       "       'attended_event'], dtype=object)"
      ]
     },
     "execution_count": 490,
     "metadata": {},
     "output_type": "execute_result"
    }
   ],
   "source": [
    "merge['activity_type'].unique()"
   ]
  },
  {
   "cell_type": "code",
   "execution_count": 620,
   "metadata": {},
   "outputs": [
    {
     "data": {
      "text/plain": [
       "<matplotlib.legend.Legend at 0x7fb42a9c8700>"
      ]
     },
     "execution_count": 620,
     "metadata": {},
     "output_type": "execute_result"
    },
    {
     "data": {
      "image/png": "[encoded data removed]",
      "text/plain": [
       "<Figure size 1152x720 with 1 Axes>"
      ]
     },
     "metadata": {
      "needs_background": "light"
     },
     "output_type": "display_data"
    }
   ],
   "source": [
    "labels = ['attended_event', 'email_click', 'email_open', 'form_fill', 'known_web_visit']\n",
    "legends = ['MC - No Need', 'MC - No Timeline', 'MC - Meeting Confirmation', \n",
    "           'MC - Meaningful Conversation', 'MC - No Budget', 'MC - MQL/QMA', \n",
    "           'MC - No Technical Fit', 'MC - No Authority',]\n",
    "\n",
    "# call_dis = merge.groupby(['call_disposition', 'activity_type'])[['total count']].sum()\n",
    "\n",
    "# set the height of the bars\n",
    "no_need = total_c.loc[('MC - No Need')]['total count'].values\n",
    "no_time = total_c.loc[('MC - No Timeline')]['total count'].values\n",
    "meet_conf = total_c.loc[('MC - Meeting Confirmation')]['total count'].values\n",
    "m_c = total_c.loc[('MC - Meaningful Conversation')]['total count'].values\n",
    "no_budget = total_c.loc['MC - No Budget']['total count'].values\n",
    "no_budget = np.append(0, no_budget)\n",
    "mc_mql = total_c.loc['MC - MQL/QMA']['total count'].values\n",
    "no_tec = total_c.loc['MC - No Technical Fit']['total count'].values\n",
    "no_tec = np.append(0, no_tec)\n",
    "no_aut = total_c.loc['MC - No Authority']['total count'].values\n",
    "# no_answer = total_c.loc['No Answer']['total count'].values\n",
    "# bad_num = total_c.loc['Bad Number']['total count'].values\n",
    "\n",
    "# plt.figure(figsize=(12,10))\n",
    "# set the width of the bars\n",
    "width = 0.1\n",
    "fig, ax = plt.subplots(figsize=(16,10))\n",
    "\n",
    "# Set position of bar on X axis \n",
    "x1 = np.arange(len(labels)) \n",
    "x2 = [x + width for x in x1] \n",
    "x3 = [x + width for x in x2]\n",
    "x4 = [x + width for x in x3]\n",
    "x5 = [x + width for x in x4]\n",
    "x6 = [x + width for x in x5]\n",
    "x7 = [x + width for x in x6]\n",
    "x8 = [x + width for x in x7]\n",
    "# x9 = [x + width for x in x8]\n",
    "# x10 = [x + width for x in x9]\n",
    "\n",
    "rects1 = ax.bar(x1, no_need, width, label=legends[0], align='center')\n",
    "rects2 = ax.bar(x2, no_time, width, label=legends[1], align='center')\n",
    "rects3 = ax.bar(x3, meet_conf, width, label=legends[2], align='center')\n",
    "rects4 = ax.bar(x4, no_budget, width, label=legends[3], align='center')\n",
    "rects5 = ax.bar(x5, no_budget, width, label=legends[4], align='center')\n",
    "rects6 = ax.bar(x6, mc_mql, width, label=legends[5], align='center')\n",
    "rects7 = ax.bar(x7, no_tec, width, label=legends[6], align='center')\n",
    "rects8 = ax.bar(x8, no_aut, width, label=legends[7], align='center')\n",
    "# rects9 = ax.bar(x9, no_answer, width, label='no answer', align='center')\n",
    "# rects10 = ax.bar(x10, bad_num, width, label='bad number', align='center')\n",
    "\n",
    "# Add some text for labels, title and custom x-axis tick labels, etc.\n",
    "\n",
    "ax.set_ylabel('Total Counts of Activity')\n",
    "ax.set_title('Counts for Different Activities')\n",
    "ax.set_xticks(x1)\n",
    "ax.set_xticklabels(labels)\n",
    "ax.legend()\n",
    "\n"
   ]
  },
  {
   "cell_type": "code",
   "execution_count": 485,
   "metadata": {},
   "outputs": [],
   "source": [
    "# target = d['call_day']\n",
    "# features = d.drop(['call_day','call_month'],axis=1)\n",
    "\n",
    "# x_train,x_test,y_train,y_test=train_test_split(features,target,test_size=0.2,random_state=42)\n",
    "\n",
    "# model = RandomForestRegressor()\n",
    "# model.fit(x_train, y_train)\n",
    "# prediction = model.predict(x_test)\n",
    "# training_accuracy = model.score(x_train, y_train)\n",
    "# print ('Training Accuracy:',training_accuracy)\n",
    "# test_accuracy = model.score(x_test, y_test)\n",
    "# print ('Testing Accuracy:',test_accuracy)"
   ]
  },
  {
   "cell_type": "code",
   "execution_count": null,
   "metadata": {},
   "outputs": [],
   "source": [
    "# target = d['call_day']\n",
    "# features = d.drop(['call_day','call_month'],axis=1)\n",
    "\n",
    "# x_train,x_test,y_train,y_test=train_test_split(features,target,test_size=0.2,random_state=42)\n",
    "\n",
    "# model = RandomForestRegressor()\n",
    "# model.fit(x_train, y_train)\n",
    "# prediction = model.predict(x_test)\n",
    "# training_accuracy = model.score(x_train, y_train)\n",
    "# print ('Training Accuracy:',training_accuracy)\n",
    "# test_accuracy = model.score(x_test, y_test)\n",
    "# print ('Testing Accuracy:',test_accuracy)"
   ]
  },
  {
   "cell_type": "code",
   "execution_count": null,
   "metadata": {},
   "outputs": [],
   "source": [
    "# target = d['call_day']\n",
    "# features = d.drop(['call_day','call_month', 'oppor'],axis=1)\n",
    "\n",
    "# x_train,x_test,y_train,y_test=train_test_split(features,target,test_size=0.2,random_state=42)\n",
    "\n",
    "# model = RandomForestRegressor()\n",
    "# model.fit(x_train, y_train)\n",
    "\n",
    "# prediction = model.predict(x_test)\n",
    "# training_accuracy = model.score(x_train, y_train)\n",
    "# print ('Training Accuracy:',training_accuracy)\n",
    "# test_accuracy = model.score(x_test, y_test)\n",
    "# print ('Testing Accuracy:',test_accuracy)"
   ]
  },
  {
   "cell_type": "code",
   "execution_count": null,
   "metadata": {},
   "outputs": [],
   "source": [
    "# target = d['call_day']\n",
    "# features = d.drop(['call_day'],axis=1)\n",
    "\n",
    "# x_train,x_test,y_train,y_test=train_test_split(features,target,test_size=0.2,random_state=42)\n",
    "\n",
    "# model = RandomForestRegressor()\n",
    "# model.fit(x_train, y_train)\n",
    "# prediction = model.predict(x_test)\n",
    "# training_accuracy = model.score(x_train, y_train)\n",
    "# print ('Training Accuracy:',training_accuracy)\n",
    "# test_accuracy = model.score(x_test, y_test)\n",
    "# print ('Testing Accuracy:',test_accuracy)"
   ]
  },
  {
   "cell_type": "code",
   "execution_count": null,
   "metadata": {},
   "outputs": [],
   "source": [
    "# knn = KNeighborsClassifier(n_neighbors = 3)                 \n",
    "# knn.fit(x_train, y_train)                                     \n",
    "\n",
    "# training_accuracy = knn.score(x_train, y_train)\n",
    "# print ('Training Accuracy:',training_accuracy)\n",
    "# test_accuracy = knn.score(x_test, y_test)\n",
    "# print ('Testing Accuracy:',test_accuracy)\n"
   ]
  },
  {
   "cell_type": "code",
   "execution_count": null,
   "metadata": {},
   "outputs": [],
   "source": [
    "# svc = SVC(kernel='poly', C=100)                                             \n",
    "# svc.fit(x_train, y_train)                                       \n",
    "\n",
    "# training_accuracy = svc.score(x_train, y_train)\n",
    "# print ('Training Accuracy:',training_accuracy)\n",
    "# test_accuracy = svc.score(x_test, y_test)\n",
    "# print ('Testing Accuracy:',test_accuracy)"
   ]
  },
  {
   "cell_type": "code",
   "execution_count": null,
   "metadata": {},
   "outputs": [],
   "source": [
    "# perceptron = Perceptron()                           \n",
    "# perceptron.fit(x_train, y_train)                                     \n",
    "\n",
    "# training_accuracy = perceptron.score(x_train, y_train)\n",
    "# print ('Training Accuracy:',training_accuracy)\n",
    "# test_accuracy = perceptron.score(x_test, y_test)\n",
    "# print ('Testing Accuracy:',test_accuracy)"
   ]
  },
  {
   "cell_type": "code",
   "execution_count": null,
   "metadata": {},
   "outputs": [],
   "source": [
    "a = company.merge(people, how = 'left', on = 'company_id')\n",
    "b = opport.merge(a, how = 'left', on = 'company_id')\n",
    "c = b.merge(calls, how = 'left', on = 'contact_id')\n",
    "d = c.merge(events.iloc[:, 0:5], on = 'contact_id')\n",
    "d['timestamp'] =  pd.to_datetime(d['timestamp'])\n",
    "d['day'] = [e.strftime('%a') for e in d['timestamp']]\n",
    "d['hour'] = [e.strftime('%H') for e in d['timestamp']]\n",
    "d\n",
    "# employee_range"
   ]
  },
  {
   "cell_type": "code",
   "execution_count": null,
   "metadata": {},
   "outputs": [],
   "source": [
    "import seaborn as sns\n",
    "t = d.groupby(['job_level', 'call_disposition'], as_index = False)[['company_id']].count()\n",
    "t = t.rename(columns = {'company_id':'count'})\n",
    "sns.set(rc={'figure.figsize':(20, 12)})\n",
    "sns.barplot(x = t['job_level'], y = t['count'], hue = t['call_disposition'])\n",
    "plt.title(\"Activity (Calls) Count by Different Job Level \")\n",
    "plt.savefig('sample1.png')\n",
    "# the frequency of different job level people response to the call"
   ]
  },
  {
   "cell_type": "code",
   "execution_count": null,
   "metadata": {},
   "outputs": [],
   "source": [
    "t1 = d.groupby(['job_level', 'activity_type'], as_index = False)[['company_id']].count()\n",
    "t1 = t1.rename(columns = {'company_id':'count'})\n",
    "sns.set(rc={'figure.figsize':(20, 12)})\n",
    "sns.barplot(x = t1['job_level'], y = t1['count'], hue = t1['activity_type'])\n",
    "plt.title(\"Activity (Emails) Count by Different Job Level \", fontsize=20)\n",
    "plt.savefig('sample2.png')"
   ]
  },
  {
   "cell_type": "code",
   "execution_count": null,
   "metadata": {},
   "outputs": [],
   "source": [
    "t3 = d.groupby(['hour', 'call_disposition'], as_index = False)[['company_id']].count()\n",
    "t3 = t3.rename(columns = {'company_id':'count'})\n",
    "sns.set(rc={'figure.figsize':(20, 12)})\n",
    "sns.barplot(x = t3['hour'], y = t3['count'], hue = t3['call_disposition'])\n",
    "plt.title(\"Activity (Calls) Count by Hours\")\n",
    "plt.savefig('sample3.png')"
   ]
  },
  {
   "cell_type": "code",
   "execution_count": null,
   "metadata": {},
   "outputs": [],
   "source": [
    "t4 = d.groupby(['day', 'job_level'], as_index = False)[['company_id']].count()\n",
    "t4 = t4.rename(columns = {'company_id':'count'})\n",
    "sns.set(rc={'figure.figsize':(20, 12)})\n",
    "sns.barplot(x = t4['day'], y = t4['count'], hue = t4['job_level'])\n",
    "plt.title(\"Daily Activity Count by Different Job Level \")\n",
    "plt.savefig('sample4.png')"
   ]
  },
  {
   "cell_type": "code",
   "execution_count": null,
   "metadata": {},
   "outputs": [],
   "source": [
    "d.to_csv('d.csv')"
   ]
  },
  {
   "cell_type": "code",
   "execution_count": null,
   "metadata": {},
   "outputs": [],
   "source": [
    "company.head()\n",
    "company"
   ]
  },
  {
   "cell_type": "code",
   "execution_count": null,
   "metadata": {},
   "outputs": [],
   "source": [
    "opport.merge(company, on = 'company_id', how = 'left')"
   ]
  },
  {
   "cell_type": "code",
   "execution_count": null,
   "metadata": {},
   "outputs": [],
   "source": [
    "c_calls.head()\n",
    "c_calls"
   ]
  },
  {
   "cell_type": "code",
   "execution_count": null,
   "metadata": {},
   "outputs": [],
   "source": [
    "c_events.head()\n",
    "c_events"
   ]
  },
  {
   "cell_type": "code",
   "execution_count": null,
   "metadata": {},
   "outputs": [],
   "source": [
    "c_opport.head()\n",
    "c_opport"
   ]
  },
  {
   "cell_type": "code",
   "execution_count": null,
   "metadata": {},
   "outputs": [],
   "source": [
    "c_people.head()\n",
    "c_people"
   ]
  },
  {
   "cell_type": "code",
   "execution_count": null,
   "metadata": {},
   "outputs": [],
   "source": [
    "c_company.head()\n",
    "c_company"
   ]
  },
  {
   "cell_type": "code",
   "execution_count": null,
   "metadata": {},
   "outputs": [],
   "source": []
  },
  {
   "cell_type": "code",
   "execution_count": null,
   "metadata": {},
   "outputs": [],
   "source": []
  }
 ],
 "metadata": {
  "kernelspec": {
   "display_name": "Python 3",
   "language": "python",
   "name": "python3"
  },
  "language_info": {
   "codemirror_mode": {
    "name": "ipython",
    "version": 3
   },
   "file_extension": ".py",
   "mimetype": "text/x-python",
   "name": "python",
   "nbconvert_exporter": "python",
   "pygments_lexer": "ipython3",
   "version": "3.8.5"
  }
 },
 "nbformat": 4,
 "nbformat_minor": 4
}
